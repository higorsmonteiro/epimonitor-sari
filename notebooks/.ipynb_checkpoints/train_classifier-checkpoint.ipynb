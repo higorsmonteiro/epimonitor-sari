{
 "cells": [
  {
   "cell_type": "markdown",
   "id": "3532df05-60fc-4708-a36b-27cd0a077678",
   "metadata": {},
   "source": [
    "# **Record Classifier on SIVEP-GRIPE**\n",
    "\n",
    "**Author**: Higor S. Monteiro<br>\n",
    "**Date**: 17 August 2023<br>\n",
    "\n",
    "**Objective**:<br> \n",
    "Create a machine learning classifier to identify whether two records refers to a same person in SIVEP-GRIPE.\n",
    "\n",
    "**Context**:<br> \n",
    "DATASUS provides several different information systems with the goal to digitally support the infrastructure of the Brazilian Universal Health System (SUS). Within the systems available, notification of occurrences is done in specific systems, such as SINASC (birth), SIM (death), SINAN (some ICD-10 codes) or SIVEP-GRIPE (SARI). Despite the use of these systems across the country, the databases rarely communicate between themselves through a unique primary key. \n",
    "\n",
    "In some cases, there is the possibility of obtaining CPF and CNS (two personal and unique information codes) within some of those systems, but even so they are not filled consistently across databases. Thus, individual identification, in most of the cases, is only possible by using sensitive personal information. Nevertheless, personal information is filled manually and there is a high occurrence of different typos in those fields. Thus, naive linkage and deduplication procedures lead to several records without proper linking. Following this rationale, a probabilistic approach taking into account the possibility of mispelling is necessary in order to improve the data matching process closer to 80-100%.\n",
    "\n",
    "Even with implementation of such methodology, we stress that rule-based approaches for the classification step still require a substantial amount of manual processing for harder cases of pairs. Rule-based approaches are simple and adequate for extreme cases (easy positive and negative pairs of records), but they are not suitable for harder cases, where similarity between a given pair is neither low or high enough for easy classification. In such cases, human classification is usually necessary. Such methodology can generate a crucial dataset that is very useful for supervising learning.\n",
    "\n",
    "**Methodology**:<br>\n",
    "We used a set of classified pairs of SIVEP-GRIPE records to create a machine learning model able to classify whether two records refer to the same individual. The dataset of classified pairs are resulted from a probabilistic deduplication process with human classification for intermediate and harder cases, while a rule-based approach was used for the easier cases. We created three different models: Logistic Regression, Random Forest and Gradient Boosting. In such models, it is possible to assess not only the final classification but also the probabilities for each class (positive and negative). Such uncertainty information allows us to provide more reliable classifications. These models will be included for automatic consolidation of weekly new SIVEP-GRIPE data. \n",
    "\n"
   ]
  },
  {
   "cell_type": "markdown",
   "id": "9cf13a8f-9bb8-4fc8-ad50-ef41bc664487",
   "metadata": {},
   "source": [
    "# **Bib**"
   ]
  },
  {
   "cell_type": "code",
   "execution_count": 134,
   "id": "c6b5574e-1d96-4f39-b338-8434919afc99",
   "metadata": {},
   "outputs": [],
   "source": [
    "import os\n",
    "import glob\n",
    "import ujson as json\n",
    "from joblib import dump\n",
    "import numpy as np\n",
    "import pandas as pd\n",
    "\n",
    "import seaborn as sns\n",
    "import matplotlib.pyplot as plt"
   ]
  },
  {
   "cell_type": "code",
   "execution_count": 100,
   "id": "f38576bf-f0e6-4b8b-848b-c856124be046",
   "metadata": {},
   "outputs": [],
   "source": [
    "# -- models\n",
    "from sklearn.linear_model import LogisticRegression\n",
    "from sklearn.ensemble import RandomForestClassifier, GradientBoostingClassifier\n",
    "# -- evaluation\n",
    "from sklearn.model_selection import train_test_split, cross_val_score\n",
    "from sklearn.metrics import mean_squared_error, precision_score, recall_score, f1_score, accuracy_score\n",
    "from sklearn.metrics import confusion_matrix, ConfusionMatrixDisplay"
   ]
  },
  {
   "cell_type": "markdown",
   "id": "b98b2ced-b0f8-4973-a257-c3489a98a317",
   "metadata": {},
   "source": [
    "# **Prepare Training Data** "
   ]
  },
  {
   "cell_type": "markdown",
   "id": "a470cc82-7b9e-4d36-9569-9127166f05de",
   "metadata": {},
   "source": [
    "**Load the similarity matrix**<br>\n",
    "\n",
    "This matrix is generated using approximated blocking over the 'FONETICA_N' field, defined as the patient's first and last name concatenated.<br> \n",
    "String comparison was performed using the 'damerau_levenstein' similarity algorithm. "
   ]
  },
  {
   "cell_type": "code",
   "execution_count": 101,
   "id": "94fb2c1d-833a-42be-bf1f-d8557b100a94",
   "metadata": {},
   "outputs": [],
   "source": [
    "basepath = os.path.join(os.environ[\"HOMEPATH\"], \"Documents\", \"data\", \"SIVEP-GRIPE\")"
   ]
  },
  {
   "cell_type": "code",
   "execution_count": 102,
   "id": "49cd1a90-0efb-4e8a-8c98-f17635b2d4ab",
   "metadata": {},
   "outputs": [
    {
     "name": "stdout",
     "output_type": "stream",
     "text": [
      "<class 'pandas.core.frame.DataFrame'>\n",
      "MultiIndex: 3164107 entries, ('315903192836', '316140034555') to ('31643139501218', '31642879031856')\n",
      "Data columns (total 14 columns):\n",
      " #   Column                  Dtype  \n",
      "---  ------                  -----  \n",
      " 0   cns                     int64  \n",
      " 1   cep                     int64  \n",
      " 2   cpf                     int64  \n",
      " 3   sexo                    int64  \n",
      " 4   nascimento_dia          int64  \n",
      " 5   nascimento_mes          int64  \n",
      " 6   nascimento_ano          int64  \n",
      " 7   primeiro_nome_mae       float64\n",
      " 8   complemento_nome_mae    float64\n",
      " 9   primeiro_nome           float64\n",
      " 10  complemento_nome        float64\n",
      " 11  bairro                  float64\n",
      " 12  rank_primeiro_nome      int32  \n",
      " 13  rank_primeiro_nome_mae  float64\n",
      "dtypes: float64(6), int32(1), int64(7)\n",
      "memory usage: 355.0+ MB\n",
      "None\n"
     ]
    },
    {
     "data": {
      "text/html": [
       "<div>\n",
       "<style scoped>\n",
       "    .dataframe tbody tr th:only-of-type {\n",
       "        vertical-align: middle;\n",
       "    }\n",
       "\n",
       "    .dataframe tbody tr th {\n",
       "        vertical-align: top;\n",
       "    }\n",
       "\n",
       "    .dataframe thead th {\n",
       "        text-align: right;\n",
       "    }\n",
       "</style>\n",
       "<table border=\"1\" class=\"dataframe\">\n",
       "  <thead>\n",
       "    <tr style=\"text-align: right;\">\n",
       "      <th></th>\n",
       "      <th></th>\n",
       "      <th>cns</th>\n",
       "      <th>cep</th>\n",
       "      <th>cpf</th>\n",
       "      <th>sexo</th>\n",
       "      <th>nascimento_dia</th>\n",
       "      <th>nascimento_mes</th>\n",
       "      <th>nascimento_ano</th>\n",
       "      <th>primeiro_nome_mae</th>\n",
       "      <th>complemento_nome_mae</th>\n",
       "      <th>primeiro_nome</th>\n",
       "      <th>complemento_nome</th>\n",
       "      <th>bairro</th>\n",
       "      <th>rank_primeiro_nome</th>\n",
       "      <th>rank_primeiro_nome_mae</th>\n",
       "    </tr>\n",
       "    <tr>\n",
       "      <th>ID_SIVEP_1</th>\n",
       "      <th>ID_SIVEP_2</th>\n",
       "      <th></th>\n",
       "      <th></th>\n",
       "      <th></th>\n",
       "      <th></th>\n",
       "      <th></th>\n",
       "      <th></th>\n",
       "      <th></th>\n",
       "      <th></th>\n",
       "      <th></th>\n",
       "      <th></th>\n",
       "      <th></th>\n",
       "      <th></th>\n",
       "      <th></th>\n",
       "      <th></th>\n",
       "    </tr>\n",
       "  </thead>\n",
       "  <tbody>\n",
       "    <tr>\n",
       "      <th>315983733440</th>\n",
       "      <th>316123859391</th>\n",
       "      <td>0</td>\n",
       "      <td>0</td>\n",
       "      <td>0</td>\n",
       "      <td>1</td>\n",
       "      <td>0</td>\n",
       "      <td>1</td>\n",
       "      <td>0</td>\n",
       "      <td>0.000000</td>\n",
       "      <td>0.0</td>\n",
       "      <td>1.0</td>\n",
       "      <td>0.0</td>\n",
       "      <td>0.0</td>\n",
       "      <td>7</td>\n",
       "      <td>4.0</td>\n",
       "    </tr>\n",
       "    <tr>\n",
       "      <th>315955972474</th>\n",
       "      <th>316274002437</th>\n",
       "      <td>0</td>\n",
       "      <td>0</td>\n",
       "      <td>0</td>\n",
       "      <td>1</td>\n",
       "      <td>0</td>\n",
       "      <td>0</td>\n",
       "      <td>0</td>\n",
       "      <td>0.000000</td>\n",
       "      <td>0.0</td>\n",
       "      <td>1.0</td>\n",
       "      <td>0.0</td>\n",
       "      <td>0.0</td>\n",
       "      <td>7</td>\n",
       "      <td>6.0</td>\n",
       "    </tr>\n",
       "    <tr>\n",
       "      <th>316232675992</th>\n",
       "      <th>315904276980</th>\n",
       "      <td>0</td>\n",
       "      <td>0</td>\n",
       "      <td>0</td>\n",
       "      <td>1</td>\n",
       "      <td>0</td>\n",
       "      <td>0</td>\n",
       "      <td>0</td>\n",
       "      <td>1.000000</td>\n",
       "      <td>0.0</td>\n",
       "      <td>1.0</td>\n",
       "      <td>0.0</td>\n",
       "      <td>0.0</td>\n",
       "      <td>6</td>\n",
       "      <td>7.0</td>\n",
       "    </tr>\n",
       "    <tr>\n",
       "      <th>315902569088</th>\n",
       "      <th>316267990980</th>\n",
       "      <td>0</td>\n",
       "      <td>0</td>\n",
       "      <td>0</td>\n",
       "      <td>1</td>\n",
       "      <td>0</td>\n",
       "      <td>0</td>\n",
       "      <td>0</td>\n",
       "      <td>0.000000</td>\n",
       "      <td>0.0</td>\n",
       "      <td>1.0</td>\n",
       "      <td>0.0</td>\n",
       "      <td>0.0</td>\n",
       "      <td>7</td>\n",
       "      <td>6.0</td>\n",
       "    </tr>\n",
       "    <tr>\n",
       "      <th>31666028691379</th>\n",
       "      <th>315958804923</th>\n",
       "      <td>0</td>\n",
       "      <td>0</td>\n",
       "      <td>0</td>\n",
       "      <td>1</td>\n",
       "      <td>0</td>\n",
       "      <td>0</td>\n",
       "      <td>0</td>\n",
       "      <td>0.714286</td>\n",
       "      <td>0.0</td>\n",
       "      <td>1.0</td>\n",
       "      <td>0.0</td>\n",
       "      <td>0.0</td>\n",
       "      <td>7</td>\n",
       "      <td>4.0</td>\n",
       "    </tr>\n",
       "  </tbody>\n",
       "</table>\n",
       "</div>"
      ],
      "text/plain": [
       "                             cns  cep  cpf  sexo  nascimento_dia  \\\n",
       "ID_SIVEP_1     ID_SIVEP_2                                          \n",
       "315983733440   316123859391    0    0    0     1               0   \n",
       "315955972474   316274002437    0    0    0     1               0   \n",
       "316232675992   315904276980    0    0    0     1               0   \n",
       "315902569088   316267990980    0    0    0     1               0   \n",
       "31666028691379 315958804923    0    0    0     1               0   \n",
       "\n",
       "                             nascimento_mes  nascimento_ano  \\\n",
       "ID_SIVEP_1     ID_SIVEP_2                                     \n",
       "315983733440   316123859391               1               0   \n",
       "315955972474   316274002437               0               0   \n",
       "316232675992   315904276980               0               0   \n",
       "315902569088   316267990980               0               0   \n",
       "31666028691379 315958804923               0               0   \n",
       "\n",
       "                             primeiro_nome_mae  complemento_nome_mae  \\\n",
       "ID_SIVEP_1     ID_SIVEP_2                                              \n",
       "315983733440   316123859391           0.000000                   0.0   \n",
       "315955972474   316274002437           0.000000                   0.0   \n",
       "316232675992   315904276980           1.000000                   0.0   \n",
       "315902569088   316267990980           0.000000                   0.0   \n",
       "31666028691379 315958804923           0.714286                   0.0   \n",
       "\n",
       "                             primeiro_nome  complemento_nome  bairro  \\\n",
       "ID_SIVEP_1     ID_SIVEP_2                                              \n",
       "315983733440   316123859391            1.0               0.0     0.0   \n",
       "315955972474   316274002437            1.0               0.0     0.0   \n",
       "316232675992   315904276980            1.0               0.0     0.0   \n",
       "315902569088   316267990980            1.0               0.0     0.0   \n",
       "31666028691379 315958804923            1.0               0.0     0.0   \n",
       "\n",
       "                             rank_primeiro_nome  rank_primeiro_nome_mae  \n",
       "ID_SIVEP_1     ID_SIVEP_2                                                \n",
       "315983733440   316123859391                   7                     4.0  \n",
       "315955972474   316274002437                   7                     6.0  \n",
       "316232675992   315904276980                   6                     7.0  \n",
       "315902569088   316267990980                   7                     6.0  \n",
       "31666028691379 315958804923                   7                     4.0  "
      ]
     },
     "execution_count": 102,
     "metadata": {},
     "output_type": "execute_result"
    }
   ],
   "source": [
    "similarity_matrix = pd.read_parquet(os.path.join(basepath, 'TRAINING_DATA_CLASSIFIER', \"DEDUPE_FILES\", \"feature_pairs.parquet\"))\n",
    "print(similarity_matrix.info())\n",
    "similarity_matrix.sample(n=5)"
   ]
  },
  {
   "cell_type": "code",
   "execution_count": 103,
   "id": "3a6ed2d3-c6a9-4108-8eb8-29e2d8d5e2c8",
   "metadata": {},
   "outputs": [],
   "source": [
    "similarity_matrix[\"rank_primeiro_nome_mae\"] = similarity_matrix[\"rank_primeiro_nome_mae\"].apply(lambda x: int(x) if pd.notna(x) else 0)"
   ]
  },
  {
   "cell_type": "code",
   "execution_count": 104,
   "id": "5eccc6ca-1d27-4c6f-b37e-7b8b747dad49",
   "metadata": {},
   "outputs": [],
   "source": [
    "similarity_matrix[\"FMT_PKEY\"] = [ f\"{n[0]}-{n[1]}\" for n in similarity_matrix.index ]"
   ]
  },
  {
   "cell_type": "markdown",
   "id": "afc73a35-a569-4ce5-a348-5202d625b452",
   "metadata": {},
   "source": [
    "**Load classified pairs**"
   ]
  },
  {
   "cell_type": "code",
   "execution_count": 105,
   "id": "422e0669-8dde-47d4-a069-8e1b4d5ded87",
   "metadata": {},
   "outputs": [],
   "source": [
    "pair_folders = [\"HIGH_PAIRS\", \"MIDHIGH_PAIRS\", \"MID_PAIRS\", \"MIDLOW_PAIRS\", \"LOW_PAIRS\"]\n",
    "\n",
    "pairs_lst = []\n",
    "for current_folder in pair_folders:\n",
    "    file_lst = glob.glob(os.path.join(basepath, 'TRAINING_DATA_CLASSIFIER', \"DEDUPE_FILES\", current_folder, \"*\"))\n",
    "    \n",
    "    for fname in file_lst:\n",
    "        with open(fname, \"r\") as f:\n",
    "            pairs_lst += json.load(f)['pairs']"
   ]
  },
  {
   "cell_type": "markdown",
   "id": "a6e59d2d-41ff-4920-b4cc-3508ee84cdea",
   "metadata": {},
   "source": [
    "Select the pairs with classification"
   ]
  },
  {
   "cell_type": "code",
   "execution_count": 106,
   "id": "9b12c2ac-baf2-4ce8-9c0c-111a2f6144b1",
   "metadata": {},
   "outputs": [
    {
     "name": "stdout",
     "output_type": "stream",
     "text": [
      "Labeled pairs: 4013\n"
     ]
    }
   ],
   "source": [
    "clas_pairs = [ pair for pair in pairs_lst if pair['classification']!='' and pair['classification']!='potential' ]\n",
    "left_ids = [ pair['identifiers']['a'] for pair in clas_pairs ]\n",
    "right_ids = [ pair['identifiers']['b'] for pair in clas_pairs ]\n",
    "labels = [ pair['classification'] for pair in clas_pairs ]\n",
    "feature_sum_pos = [ pair['agg']['S'] for pair in clas_pairs if pair['classification']=='positive' ]\n",
    "feature_sum_neg = [ pair['agg']['S'] for pair in clas_pairs if pair['classification']=='negative' ]\n",
    "\n",
    "print(f\"Labeled pairs: {len(labels)}\")"
   ]
  },
  {
   "cell_type": "markdown",
   "id": "b24371d2-16cd-407d-bd30-c91c8f633ff7",
   "metadata": {},
   "source": [
    "**Label distribution per sum of features**"
   ]
  },
  {
   "cell_type": "code",
   "execution_count": 107,
   "id": "3cce9f62-c1e4-4792-ad55-4c5848543a74",
   "metadata": {},
   "outputs": [
    {
     "data": {
      "text/plain": [
       "Text(0.5, 1.0, 'Label per feature sum')"
      ]
     },
     "execution_count": 107,
     "metadata": {},
     "output_type": "execute_result"
    },
    {
     "data": {
      "image/png": "[encoded data removed]",
      "text/plain": [
       "<Figure size 800x400 with 1 Axes>"
      ]
     },
     "metadata": {},
     "output_type": "display_data"
    }
   ],
   "source": [
    "freq_soma_pos, interval_soma_pos = np.histogram(feature_sum_pos, bins=np.arange(0, 13.0, 1.0))\n",
    "freq_soma_neg, interval_soma_neg = np.histogram(feature_sum_neg, bins=np.arange(0, 13.0, 1.0))\n",
    "\n",
    "fig, ax = plt.subplots(1, figsize=(8,4))\n",
    "ax.bar(interval_soma_neg[:-1], freq_soma_neg, align='edge', width=0.9, color='gray', alpha=0.8, label=\"negative\")\n",
    "ax.bar(interval_soma_pos[:-1], freq_soma_pos, align='edge', width=0.9, color='tab:orange', alpha=0.8, label=\"positive\")\n",
    "\n",
    "for axis in [ax]:\n",
    "    axis.grid(alpha=0.1)\n",
    "    axis.set_xticks(np.arange(0, 13.0, 1.0))\n",
    "    axis.set_ylabel(\"total\", fontsize=12)\n",
    "    axis.spines['top'].set_linewidth(0)\n",
    "    axis.spines['right'].set_linewidth(0)\n",
    "    axis.set_yscale('log')\n",
    "    axis.legend()\n",
    "ax.set_title(\"Label per feature sum\")"
   ]
  },
  {
   "cell_type": "markdown",
   "id": "572dc0f3-309b-4a51-b17a-a0059e3fc02d",
   "metadata": {},
   "source": [
    "**Format training set** "
   ]
  },
  {
   "cell_type": "code",
   "execution_count": 108,
   "id": "dc856f9f-8b14-4ef9-ba4b-0789e7c858fd",
   "metadata": {},
   "outputs": [
    {
     "data": {
      "text/html": [
       "<div>\n",
       "<style scoped>\n",
       "    .dataframe tbody tr th:only-of-type {\n",
       "        vertical-align: middle;\n",
       "    }\n",
       "\n",
       "    .dataframe tbody tr th {\n",
       "        vertical-align: top;\n",
       "    }\n",
       "\n",
       "    .dataframe thead th {\n",
       "        text-align: right;\n",
       "    }\n",
       "</style>\n",
       "<table border=\"1\" class=\"dataframe\">\n",
       "  <thead>\n",
       "    <tr style=\"text-align: right;\">\n",
       "      <th></th>\n",
       "      <th>LABEL</th>\n",
       "      <th>FMT_PKEY</th>\n",
       "    </tr>\n",
       "  </thead>\n",
       "  <tbody>\n",
       "    <tr>\n",
       "      <th>3556</th>\n",
       "      <td>0</td>\n",
       "      <td>31645476988434-316250825558</td>\n",
       "    </tr>\n",
       "    <tr>\n",
       "      <th>1896</th>\n",
       "      <td>1</td>\n",
       "      <td>31647966909397-31651491664634</td>\n",
       "    </tr>\n",
       "    <tr>\n",
       "      <th>2047</th>\n",
       "      <td>0</td>\n",
       "      <td>31642720321998-316183405188</td>\n",
       "    </tr>\n",
       "    <tr>\n",
       "      <th>1247</th>\n",
       "      <td>1</td>\n",
       "      <td>315837634681-315991356449</td>\n",
       "    </tr>\n",
       "    <tr>\n",
       "      <th>1470</th>\n",
       "      <td>1</td>\n",
       "      <td>316079503410-316097775512</td>\n",
       "    </tr>\n",
       "  </tbody>\n",
       "</table>\n",
       "</div>"
      ],
      "text/plain": [
       "      LABEL                       FMT_PKEY\n",
       "3556      0    31645476988434-316250825558\n",
       "1896      1  31647966909397-31651491664634\n",
       "2047      0    31642720321998-316183405188\n",
       "1247      1      315837634681-315991356449\n",
       "1470      1      316079503410-316097775512"
      ]
     },
     "execution_count": 108,
     "metadata": {},
     "output_type": "execute_result"
    }
   ],
   "source": [
    "class_df = pd.DataFrame({\"ID_SIVEP_1\": left_ids, \"ID_SIVEP_2\": right_ids, \"LABEL\": labels})\n",
    "class_df[\"FMT_PKEY\"] = class_df[\"ID_SIVEP_1\"] + \"-\" + class_df[\"ID_SIVEP_2\"]\n",
    "class_df = class_df.drop([\"ID_SIVEP_1\", \"ID_SIVEP_2\"], axis=1)\n",
    "class_df[\"LABEL\"] = class_df[\"LABEL\"].map({\"positive\": 1, \"negative\": 0})\n",
    "class_df.sample(n=5)"
   ]
  },
  {
   "cell_type": "code",
   "execution_count": 109,
   "id": "0cdf0761-ff83-4bf7-8070-cecb321ed559",
   "metadata": {},
   "outputs": [],
   "source": [
    "training_df = similarity_matrix.reset_index().merge(class_df, on=\"FMT_PKEY\", how=\"inner\").set_index([\"ID_SIVEP_1\", \"ID_SIVEP_2\"]).drop(\"FMT_PKEY\", axis=1)"
   ]
  },
  {
   "cell_type": "code",
   "execution_count": 110,
   "id": "a9b31899-c632-42d9-9c33-2f0c35a18169",
   "metadata": {},
   "outputs": [
    {
     "data": {
      "text/html": [
       "<div>\n",
       "<style scoped>\n",
       "    .dataframe tbody tr th:only-of-type {\n",
       "        vertical-align: middle;\n",
       "    }\n",
       "\n",
       "    .dataframe tbody tr th {\n",
       "        vertical-align: top;\n",
       "    }\n",
       "\n",
       "    .dataframe thead th {\n",
       "        text-align: right;\n",
       "    }\n",
       "</style>\n",
       "<table border=\"1\" class=\"dataframe\">\n",
       "  <thead>\n",
       "    <tr style=\"text-align: right;\">\n",
       "      <th></th>\n",
       "      <th></th>\n",
       "      <th>cns</th>\n",
       "      <th>cep</th>\n",
       "      <th>cpf</th>\n",
       "      <th>sexo</th>\n",
       "      <th>nascimento_dia</th>\n",
       "      <th>nascimento_mes</th>\n",
       "      <th>nascimento_ano</th>\n",
       "      <th>primeiro_nome_mae</th>\n",
       "      <th>complemento_nome_mae</th>\n",
       "      <th>primeiro_nome</th>\n",
       "      <th>complemento_nome</th>\n",
       "      <th>bairro</th>\n",
       "      <th>rank_primeiro_nome</th>\n",
       "      <th>rank_primeiro_nome_mae</th>\n",
       "      <th>LABEL</th>\n",
       "    </tr>\n",
       "    <tr>\n",
       "      <th>ID_SIVEP_1</th>\n",
       "      <th>ID_SIVEP_2</th>\n",
       "      <th></th>\n",
       "      <th></th>\n",
       "      <th></th>\n",
       "      <th></th>\n",
       "      <th></th>\n",
       "      <th></th>\n",
       "      <th></th>\n",
       "      <th></th>\n",
       "      <th></th>\n",
       "      <th></th>\n",
       "      <th></th>\n",
       "      <th></th>\n",
       "      <th></th>\n",
       "      <th></th>\n",
       "      <th></th>\n",
       "    </tr>\n",
       "  </thead>\n",
       "  <tbody>\n",
       "    <tr>\n",
       "      <th>316159190773</th>\n",
       "      <th>316164383111</th>\n",
       "      <td>0</td>\n",
       "      <td>0</td>\n",
       "      <td>0</td>\n",
       "      <td>1</td>\n",
       "      <td>0</td>\n",
       "      <td>0</td>\n",
       "      <td>0</td>\n",
       "      <td>0.0</td>\n",
       "      <td>0.0</td>\n",
       "      <td>1.0</td>\n",
       "      <td>0.000000</td>\n",
       "      <td>0.0</td>\n",
       "      <td>7</td>\n",
       "      <td>4</td>\n",
       "      <td>0</td>\n",
       "    </tr>\n",
       "    <tr>\n",
       "      <th>316184282645</th>\n",
       "      <th>31642876784205</th>\n",
       "      <td>0</td>\n",
       "      <td>0</td>\n",
       "      <td>0</td>\n",
       "      <td>1</td>\n",
       "      <td>0</td>\n",
       "      <td>0</td>\n",
       "      <td>0</td>\n",
       "      <td>0.6</td>\n",
       "      <td>0.0</td>\n",
       "      <td>1.0</td>\n",
       "      <td>0.000000</td>\n",
       "      <td>0.0</td>\n",
       "      <td>7</td>\n",
       "      <td>7</td>\n",
       "      <td>0</td>\n",
       "    </tr>\n",
       "    <tr>\n",
       "      <th>31645476988434</th>\n",
       "      <th>316250825558</th>\n",
       "      <td>0</td>\n",
       "      <td>0</td>\n",
       "      <td>0</td>\n",
       "      <td>1</td>\n",
       "      <td>0</td>\n",
       "      <td>0</td>\n",
       "      <td>0</td>\n",
       "      <td>1.0</td>\n",
       "      <td>0.0</td>\n",
       "      <td>1.0</td>\n",
       "      <td>0.000000</td>\n",
       "      <td>0.0</td>\n",
       "      <td>7</td>\n",
       "      <td>7</td>\n",
       "      <td>0</td>\n",
       "    </tr>\n",
       "    <tr>\n",
       "      <th>316013209350</th>\n",
       "      <th>316063988014</th>\n",
       "      <td>0</td>\n",
       "      <td>0</td>\n",
       "      <td>0</td>\n",
       "      <td>1</td>\n",
       "      <td>0</td>\n",
       "      <td>0</td>\n",
       "      <td>0</td>\n",
       "      <td>0.0</td>\n",
       "      <td>0.0</td>\n",
       "      <td>1.0</td>\n",
       "      <td>0.000000</td>\n",
       "      <td>0.0</td>\n",
       "      <td>7</td>\n",
       "      <td>6</td>\n",
       "      <td>0</td>\n",
       "    </tr>\n",
       "    <tr>\n",
       "      <th>316281751153</th>\n",
       "      <th>316294662693</th>\n",
       "      <td>0</td>\n",
       "      <td>0</td>\n",
       "      <td>0</td>\n",
       "      <td>1</td>\n",
       "      <td>0</td>\n",
       "      <td>0</td>\n",
       "      <td>0</td>\n",
       "      <td>0.0</td>\n",
       "      <td>0.0</td>\n",
       "      <td>1.0</td>\n",
       "      <td>0.000000</td>\n",
       "      <td>0.0</td>\n",
       "      <td>6</td>\n",
       "      <td>4</td>\n",
       "      <td>0</td>\n",
       "    </tr>\n",
       "    <tr>\n",
       "      <th>...</th>\n",
       "      <th>...</th>\n",
       "      <td>...</td>\n",
       "      <td>...</td>\n",
       "      <td>...</td>\n",
       "      <td>...</td>\n",
       "      <td>...</td>\n",
       "      <td>...</td>\n",
       "      <td>...</td>\n",
       "      <td>...</td>\n",
       "      <td>...</td>\n",
       "      <td>...</td>\n",
       "      <td>...</td>\n",
       "      <td>...</td>\n",
       "      <td>...</td>\n",
       "      <td>...</td>\n",
       "      <td>...</td>\n",
       "    </tr>\n",
       "    <tr>\n",
       "      <th>316210188910</th>\n",
       "      <th>316242869913</th>\n",
       "      <td>0</td>\n",
       "      <td>0</td>\n",
       "      <td>0</td>\n",
       "      <td>1</td>\n",
       "      <td>0</td>\n",
       "      <td>0</td>\n",
       "      <td>0</td>\n",
       "      <td>0.0</td>\n",
       "      <td>0.0</td>\n",
       "      <td>1.0</td>\n",
       "      <td>0.000000</td>\n",
       "      <td>0.0</td>\n",
       "      <td>3</td>\n",
       "      <td>5</td>\n",
       "      <td>0</td>\n",
       "    </tr>\n",
       "    <tr>\n",
       "      <th rowspan=\"2\" valign=\"top\">31664095368205</th>\n",
       "      <th>31656937149818</th>\n",
       "      <td>0</td>\n",
       "      <td>0</td>\n",
       "      <td>0</td>\n",
       "      <td>1</td>\n",
       "      <td>1</td>\n",
       "      <td>1</td>\n",
       "      <td>1</td>\n",
       "      <td>1.0</td>\n",
       "      <td>1.0</td>\n",
       "      <td>1.0</td>\n",
       "      <td>0.961538</td>\n",
       "      <td>0.0</td>\n",
       "      <td>4</td>\n",
       "      <td>7</td>\n",
       "      <td>1</td>\n",
       "    </tr>\n",
       "    <tr>\n",
       "      <th>31665461190004</th>\n",
       "      <td>0</td>\n",
       "      <td>0</td>\n",
       "      <td>0</td>\n",
       "      <td>1</td>\n",
       "      <td>1</td>\n",
       "      <td>1</td>\n",
       "      <td>1</td>\n",
       "      <td>1.0</td>\n",
       "      <td>1.0</td>\n",
       "      <td>1.0</td>\n",
       "      <td>0.923077</td>\n",
       "      <td>0.0</td>\n",
       "      <td>4</td>\n",
       "      <td>7</td>\n",
       "      <td>1</td>\n",
       "    </tr>\n",
       "    <tr>\n",
       "      <th>315880883485</th>\n",
       "      <th>315901573538</th>\n",
       "      <td>0</td>\n",
       "      <td>0</td>\n",
       "      <td>0</td>\n",
       "      <td>1</td>\n",
       "      <td>0</td>\n",
       "      <td>0</td>\n",
       "      <td>0</td>\n",
       "      <td>0.0</td>\n",
       "      <td>0.0</td>\n",
       "      <td>1.0</td>\n",
       "      <td>0.000000</td>\n",
       "      <td>0.0</td>\n",
       "      <td>6</td>\n",
       "      <td>6</td>\n",
       "      <td>0</td>\n",
       "    </tr>\n",
       "    <tr>\n",
       "      <th>315931903237</th>\n",
       "      <th>316311899186</th>\n",
       "      <td>0</td>\n",
       "      <td>0</td>\n",
       "      <td>0</td>\n",
       "      <td>1</td>\n",
       "      <td>0</td>\n",
       "      <td>0</td>\n",
       "      <td>0</td>\n",
       "      <td>0.0</td>\n",
       "      <td>0.0</td>\n",
       "      <td>1.0</td>\n",
       "      <td>0.000000</td>\n",
       "      <td>0.0</td>\n",
       "      <td>7</td>\n",
       "      <td>6</td>\n",
       "      <td>0</td>\n",
       "    </tr>\n",
       "  </tbody>\n",
       "</table>\n",
       "<p>4013 rows × 15 columns</p>\n",
       "</div>"
      ],
      "text/plain": [
       "                               cns  cep  cpf  sexo  nascimento_dia  \\\n",
       "ID_SIVEP_1     ID_SIVEP_2                                            \n",
       "316159190773   316164383111      0    0    0     1               0   \n",
       "316184282645   31642876784205    0    0    0     1               0   \n",
       "31645476988434 316250825558      0    0    0     1               0   \n",
       "316013209350   316063988014      0    0    0     1               0   \n",
       "316281751153   316294662693      0    0    0     1               0   \n",
       "...                            ...  ...  ...   ...             ...   \n",
       "316210188910   316242869913      0    0    0     1               0   \n",
       "31664095368205 31656937149818    0    0    0     1               1   \n",
       "               31665461190004    0    0    0     1               1   \n",
       "315880883485   315901573538      0    0    0     1               0   \n",
       "315931903237   316311899186      0    0    0     1               0   \n",
       "\n",
       "                               nascimento_mes  nascimento_ano  \\\n",
       "ID_SIVEP_1     ID_SIVEP_2                                       \n",
       "316159190773   316164383111                 0               0   \n",
       "316184282645   31642876784205               0               0   \n",
       "31645476988434 316250825558                 0               0   \n",
       "316013209350   316063988014                 0               0   \n",
       "316281751153   316294662693                 0               0   \n",
       "...                                       ...             ...   \n",
       "316210188910   316242869913                 0               0   \n",
       "31664095368205 31656937149818               1               1   \n",
       "               31665461190004               1               1   \n",
       "315880883485   315901573538                 0               0   \n",
       "315931903237   316311899186                 0               0   \n",
       "\n",
       "                               primeiro_nome_mae  complemento_nome_mae  \\\n",
       "ID_SIVEP_1     ID_SIVEP_2                                                \n",
       "316159190773   316164383111                  0.0                   0.0   \n",
       "316184282645   31642876784205                0.6                   0.0   \n",
       "31645476988434 316250825558                  1.0                   0.0   \n",
       "316013209350   316063988014                  0.0                   0.0   \n",
       "316281751153   316294662693                  0.0                   0.0   \n",
       "...                                          ...                   ...   \n",
       "316210188910   316242869913                  0.0                   0.0   \n",
       "31664095368205 31656937149818                1.0                   1.0   \n",
       "               31665461190004                1.0                   1.0   \n",
       "315880883485   315901573538                  0.0                   0.0   \n",
       "315931903237   316311899186                  0.0                   0.0   \n",
       "\n",
       "                               primeiro_nome  complemento_nome  bairro  \\\n",
       "ID_SIVEP_1     ID_SIVEP_2                                                \n",
       "316159190773   316164383111              1.0          0.000000     0.0   \n",
       "316184282645   31642876784205            1.0          0.000000     0.0   \n",
       "31645476988434 316250825558              1.0          0.000000     0.0   \n",
       "316013209350   316063988014              1.0          0.000000     0.0   \n",
       "316281751153   316294662693              1.0          0.000000     0.0   \n",
       "...                                      ...               ...     ...   \n",
       "316210188910   316242869913              1.0          0.000000     0.0   \n",
       "31664095368205 31656937149818            1.0          0.961538     0.0   \n",
       "               31665461190004            1.0          0.923077     0.0   \n",
       "315880883485   315901573538              1.0          0.000000     0.0   \n",
       "315931903237   316311899186              1.0          0.000000     0.0   \n",
       "\n",
       "                               rank_primeiro_nome  rank_primeiro_nome_mae  \\\n",
       "ID_SIVEP_1     ID_SIVEP_2                                                   \n",
       "316159190773   316164383111                     7                       4   \n",
       "316184282645   31642876784205                   7                       7   \n",
       "31645476988434 316250825558                     7                       7   \n",
       "316013209350   316063988014                     7                       6   \n",
       "316281751153   316294662693                     6                       4   \n",
       "...                                           ...                     ...   \n",
       "316210188910   316242869913                     3                       5   \n",
       "31664095368205 31656937149818                   4                       7   \n",
       "               31665461190004                   4                       7   \n",
       "315880883485   315901573538                     6                       6   \n",
       "315931903237   316311899186                     7                       6   \n",
       "\n",
       "                               LABEL  \n",
       "ID_SIVEP_1     ID_SIVEP_2             \n",
       "316159190773   316164383111        0  \n",
       "316184282645   31642876784205      0  \n",
       "31645476988434 316250825558        0  \n",
       "316013209350   316063988014        0  \n",
       "316281751153   316294662693        0  \n",
       "...                              ...  \n",
       "316210188910   316242869913        0  \n",
       "31664095368205 31656937149818      1  \n",
       "               31665461190004      1  \n",
       "315880883485   315901573538        0  \n",
       "315931903237   316311899186        0  \n",
       "\n",
       "[4013 rows x 15 columns]"
      ]
     },
     "execution_count": 110,
     "metadata": {},
     "output_type": "execute_result"
    }
   ],
   "source": [
    "training_df"
   ]
  },
  {
   "cell_type": "code",
   "execution_count": null,
   "id": "5bafecb2-76fa-4747-83e8-7add1d94d732",
   "metadata": {},
   "outputs": [],
   "source": []
  },
  {
   "cell_type": "markdown",
   "id": "9dcca6f9-54e3-406c-8bb8-f8258f34f6fc",
   "metadata": {},
   "source": [
    "# **Model Training**"
   ]
  },
  {
   "cell_type": "code",
   "execution_count": 111,
   "id": "b29d55f1-c497-4907-8ece-25ac2e579b28",
   "metadata": {},
   "outputs": [],
   "source": [
    "training_data = training_df.copy()\n",
    "\n",
    "X, y = training_data.iloc[:,:-1].values, training_data.iloc[:,-1].values\n",
    "X_train, X_test, y_train, y_test = train_test_split(X, y, test_size=0.25)"
   ]
  },
  {
   "cell_type": "markdown",
   "id": "53d7e169-bfeb-4100-a889-b7602b91e60e",
   "metadata": {},
   "source": [
    "## **Model:** Gradient Boosting Classifier"
   ]
  },
  {
   "cell_type": "code",
   "execution_count": 112,
   "id": "41f26b78-9521-43a1-94a2-a7d5293790bf",
   "metadata": {},
   "outputs": [
    {
     "data": {
      "text/html": [
       "<style>#sk-container-id-13 {color: black;background-color: white;}#sk-container-id-13 pre{padding: 0;}#sk-container-id-13 div.sk-toggleable {background-color: white;}#sk-container-id-13 label.sk-toggleable__label {cursor: pointer;display: block;width: 100%;margin-bottom: 0;padding: 0.3em;box-sizing: border-box;text-align: center;}#sk-container-id-13 label.sk-toggleable__label-arrow:before {content: \"▸\";float: left;margin-right: 0.25em;color: #696969;}#sk-container-id-13 label.sk-toggleable__label-arrow:hover:before {color: black;}#sk-container-id-13 div.sk-estimator:hover label.sk-toggleable__label-arrow:before {color: black;}#sk-container-id-13 div.sk-toggleable__content {max-height: 0;max-width: 0;overflow: hidden;text-align: left;background-color: #f0f8ff;}#sk-container-id-13 div.sk-toggleable__content pre {margin: 0.2em;color: black;border-radius: 0.25em;background-color: #f0f8ff;}#sk-container-id-13 input.sk-toggleable__control:checked~div.sk-toggleable__content {max-height: 200px;max-width: 100%;overflow: auto;}#sk-container-id-13 input.sk-toggleable__control:checked~label.sk-toggleable__label-arrow:before {content: \"▾\";}#sk-container-id-13 div.sk-estimator input.sk-toggleable__control:checked~label.sk-toggleable__label {background-color: #d4ebff;}#sk-container-id-13 div.sk-label input.sk-toggleable__control:checked~label.sk-toggleable__label {background-color: #d4ebff;}#sk-container-id-13 input.sk-hidden--visually {border: 0;clip: rect(1px 1px 1px 1px);clip: rect(1px, 1px, 1px, 1px);height: 1px;margin: -1px;overflow: hidden;padding: 0;position: absolute;width: 1px;}#sk-container-id-13 div.sk-estimator {font-family: monospace;background-color: #f0f8ff;border: 1px dotted black;border-radius: 0.25em;box-sizing: border-box;margin-bottom: 0.5em;}#sk-container-id-13 div.sk-estimator:hover {background-color: #d4ebff;}#sk-container-id-13 div.sk-parallel-item::after {content: \"\";width: 100%;border-bottom: 1px solid gray;flex-grow: 1;}#sk-container-id-13 div.sk-label:hover label.sk-toggleable__label {background-color: #d4ebff;}#sk-container-id-13 div.sk-serial::before {content: \"\";position: absolute;border-left: 1px solid gray;box-sizing: border-box;top: 0;bottom: 0;left: 50%;z-index: 0;}#sk-container-id-13 div.sk-serial {display: flex;flex-direction: column;align-items: center;background-color: white;padding-right: 0.2em;padding-left: 0.2em;position: relative;}#sk-container-id-13 div.sk-item {position: relative;z-index: 1;}#sk-container-id-13 div.sk-parallel {display: flex;align-items: stretch;justify-content: center;background-color: white;position: relative;}#sk-container-id-13 div.sk-item::before, #sk-container-id-13 div.sk-parallel-item::before {content: \"\";position: absolute;border-left: 1px solid gray;box-sizing: border-box;top: 0;bottom: 0;left: 50%;z-index: -1;}#sk-container-id-13 div.sk-parallel-item {display: flex;flex-direction: column;z-index: 1;position: relative;background-color: white;}#sk-container-id-13 div.sk-parallel-item:first-child::after {align-self: flex-end;width: 50%;}#sk-container-id-13 div.sk-parallel-item:last-child::after {align-self: flex-start;width: 50%;}#sk-container-id-13 div.sk-parallel-item:only-child::after {width: 0;}#sk-container-id-13 div.sk-dashed-wrapped {border: 1px dashed gray;margin: 0 0.4em 0.5em 0.4em;box-sizing: border-box;padding-bottom: 0.4em;background-color: white;}#sk-container-id-13 div.sk-label label {font-family: monospace;font-weight: bold;display: inline-block;line-height: 1.2em;}#sk-container-id-13 div.sk-label-container {text-align: center;}#sk-container-id-13 div.sk-container {/* jupyter's `normalize.less` sets `[hidden] { display: none; }` but bootstrap.min.css set `[hidden] { display: none !important; }` so we also need the `!important` here to be able to override the default hidden behavior on the sphinx rendered scikit-learn.org. See: https://github.com/scikit-learn/scikit-learn/issues/21755 */display: inline-block !important;position: relative;}#sk-container-id-13 div.sk-text-repr-fallback {display: none;}</style><div id=\"sk-container-id-13\" class=\"sk-top-container\"><div class=\"sk-text-repr-fallback\"><pre>GradientBoostingClassifier(learning_rate=0.2, warm_start=True)</pre><b>In a Jupyter environment, please rerun this cell to show the HTML representation or trust the notebook. <br />On GitHub, the HTML representation is unable to render, please try loading this page with nbviewer.org.</b></div><div class=\"sk-container\" hidden><div class=\"sk-item\"><div class=\"sk-estimator sk-toggleable\"><input class=\"sk-toggleable__control sk-hidden--visually\" id=\"sk-estimator-id-13\" type=\"checkbox\" checked><label for=\"sk-estimator-id-13\" class=\"sk-toggleable__label sk-toggleable__label-arrow\">GradientBoostingClassifier</label><div class=\"sk-toggleable__content\"><pre>GradientBoostingClassifier(learning_rate=0.2, warm_start=True)</pre></div></div></div></div></div>"
      ],
      "text/plain": [
       "GradientBoostingClassifier(learning_rate=0.2, warm_start=True)"
      ]
     },
     "execution_count": 112,
     "metadata": {},
     "output_type": "execute_result"
    }
   ],
   "source": [
    "gbt_model = GradientBoostingClassifier(n_estimators=100, max_depth=3, learning_rate=0.2, warm_start=True)\n",
    "gbt_model.fit(X_train, y_train)"
   ]
  },
  {
   "cell_type": "markdown",
   "id": "e6399c37-d9da-4470-b7de-56259d33b9e1",
   "metadata": {},
   "source": [
    "**Choose number of estimators based on MSE error**"
   ]
  },
  {
   "cell_type": "code",
   "execution_count": 113,
   "id": "b993ce7e-7518-4b0f-a902-a752021c36a3",
   "metadata": {},
   "outputs": [],
   "source": [
    "mse_errors = [mean_squared_error(y_train, y_pred) for y_pred in gbt_model.staged_predict(X_train)]\n",
    "\n",
    "accuracy_errors = [accuracy_score(y_train, y_pred) for y_pred in gbt_model.staged_predict(X_train)]\n",
    "precision_errors = [precision_score(y_train, y_pred) for y_pred in gbt_model.staged_predict(X_train)]\n",
    "recall_errors = [recall_score(y_train, y_pred) for y_pred in gbt_model.staged_predict(X_train)]\n",
    "f1_errors = [f1_score(y_train, y_pred) for y_pred in gbt_model.staged_predict(X_train)]\n",
    "\n",
    "bst_n_estimators_mse = np.argmin(mse_errors) + 1"
   ]
  },
  {
   "cell_type": "code",
   "execution_count": 114,
   "id": "38d4ec37-145b-4ec8-8e19-8503292b3c45",
   "metadata": {},
   "outputs": [
    {
     "name": "stdout",
     "output_type": "stream",
     "text": [
      "Optimal number of estimators: 68\n"
     ]
    },
    {
     "data": {
      "image/png": "[encoded data removed]",
      "text/plain": [
       "<Figure size 1000x400 with 2 Axes>"
      ]
     },
     "metadata": {},
     "output_type": "display_data"
    }
   ],
   "source": [
    "fig, (ax1, ax2) = plt.subplots(1,2, figsize=(10,4.))\n",
    "\n",
    "ax1.plot(mse_errors)\n",
    "ax2.plot(accuracy_errors, lw=1, label=\"Accuracy\")\n",
    "ax2.plot(precision_errors, lw=1, label=\"Precision\")\n",
    "ax2.plot(recall_errors, lw=1, label=\"Recall\")\n",
    "ax2.plot(f1_errors, lw=1, label=\"F1\")\n",
    "ax1.axhline(y=np.min(mse_errors), xmin=0, xmax=100, ls=\"--\", lw=1)\n",
    "\n",
    "print(f\"Optimal number of estimators: {bst_n_estimators_mse}\")\n",
    "ax2.legend()\n",
    "ax1.set_title(\"MSE\")\n",
    "for axis in [ax1, ax2]:\n",
    "    axis.spines['top'].set_linewidth(0)\n",
    "    axis.spines['right'].set_linewidth(0)\n",
    "    axis.grid(alpha=0.1)\n",
    "    axis.set_xlim([0,bst_n_estimators_mse+10])\n",
    "    axis.axvline(x=bst_n_estimators_mse, ymin=0, ymax=1, ls=\"--\", lw=1)"
   ]
  },
  {
   "cell_type": "code",
   "execution_count": 115,
   "id": "4ccee196-46a5-4c0f-8c12-b4d7656db64b",
   "metadata": {},
   "outputs": [
    {
     "data": {
      "text/html": [
       "<style>#sk-container-id-14 {color: black;background-color: white;}#sk-container-id-14 pre{padding: 0;}#sk-container-id-14 div.sk-toggleable {background-color: white;}#sk-container-id-14 label.sk-toggleable__label {cursor: pointer;display: block;width: 100%;margin-bottom: 0;padding: 0.3em;box-sizing: border-box;text-align: center;}#sk-container-id-14 label.sk-toggleable__label-arrow:before {content: \"▸\";float: left;margin-right: 0.25em;color: #696969;}#sk-container-id-14 label.sk-toggleable__label-arrow:hover:before {color: black;}#sk-container-id-14 div.sk-estimator:hover label.sk-toggleable__label-arrow:before {color: black;}#sk-container-id-14 div.sk-toggleable__content {max-height: 0;max-width: 0;overflow: hidden;text-align: left;background-color: #f0f8ff;}#sk-container-id-14 div.sk-toggleable__content pre {margin: 0.2em;color: black;border-radius: 0.25em;background-color: #f0f8ff;}#sk-container-id-14 input.sk-toggleable__control:checked~div.sk-toggleable__content {max-height: 200px;max-width: 100%;overflow: auto;}#sk-container-id-14 input.sk-toggleable__control:checked~label.sk-toggleable__label-arrow:before {content: \"▾\";}#sk-container-id-14 div.sk-estimator input.sk-toggleable__control:checked~label.sk-toggleable__label {background-color: #d4ebff;}#sk-container-id-14 div.sk-label input.sk-toggleable__control:checked~label.sk-toggleable__label {background-color: #d4ebff;}#sk-container-id-14 input.sk-hidden--visually {border: 0;clip: rect(1px 1px 1px 1px);clip: rect(1px, 1px, 1px, 1px);height: 1px;margin: -1px;overflow: hidden;padding: 0;position: absolute;width: 1px;}#sk-container-id-14 div.sk-estimator {font-family: monospace;background-color: #f0f8ff;border: 1px dotted black;border-radius: 0.25em;box-sizing: border-box;margin-bottom: 0.5em;}#sk-container-id-14 div.sk-estimator:hover {background-color: #d4ebff;}#sk-container-id-14 div.sk-parallel-item::after {content: \"\";width: 100%;border-bottom: 1px solid gray;flex-grow: 1;}#sk-container-id-14 div.sk-label:hover label.sk-toggleable__label {background-color: #d4ebff;}#sk-container-id-14 div.sk-serial::before {content: \"\";position: absolute;border-left: 1px solid gray;box-sizing: border-box;top: 0;bottom: 0;left: 50%;z-index: 0;}#sk-container-id-14 div.sk-serial {display: flex;flex-direction: column;align-items: center;background-color: white;padding-right: 0.2em;padding-left: 0.2em;position: relative;}#sk-container-id-14 div.sk-item {position: relative;z-index: 1;}#sk-container-id-14 div.sk-parallel {display: flex;align-items: stretch;justify-content: center;background-color: white;position: relative;}#sk-container-id-14 div.sk-item::before, #sk-container-id-14 div.sk-parallel-item::before {content: \"\";position: absolute;border-left: 1px solid gray;box-sizing: border-box;top: 0;bottom: 0;left: 50%;z-index: -1;}#sk-container-id-14 div.sk-parallel-item {display: flex;flex-direction: column;z-index: 1;position: relative;background-color: white;}#sk-container-id-14 div.sk-parallel-item:first-child::after {align-self: flex-end;width: 50%;}#sk-container-id-14 div.sk-parallel-item:last-child::after {align-self: flex-start;width: 50%;}#sk-container-id-14 div.sk-parallel-item:only-child::after {width: 0;}#sk-container-id-14 div.sk-dashed-wrapped {border: 1px dashed gray;margin: 0 0.4em 0.5em 0.4em;box-sizing: border-box;padding-bottom: 0.4em;background-color: white;}#sk-container-id-14 div.sk-label label {font-family: monospace;font-weight: bold;display: inline-block;line-height: 1.2em;}#sk-container-id-14 div.sk-label-container {text-align: center;}#sk-container-id-14 div.sk-container {/* jupyter's `normalize.less` sets `[hidden] { display: none; }` but bootstrap.min.css set `[hidden] { display: none !important; }` so we also need the `!important` here to be able to override the default hidden behavior on the sphinx rendered scikit-learn.org. See: https://github.com/scikit-learn/scikit-learn/issues/21755 */display: inline-block !important;position: relative;}#sk-container-id-14 div.sk-text-repr-fallback {display: none;}</style><div id=\"sk-container-id-14\" class=\"sk-top-container\"><div class=\"sk-text-repr-fallback\"><pre>GradientBoostingClassifier(learning_rate=0.2, n_estimators=69, warm_start=True)</pre><b>In a Jupyter environment, please rerun this cell to show the HTML representation or trust the notebook. <br />On GitHub, the HTML representation is unable to render, please try loading this page with nbviewer.org.</b></div><div class=\"sk-container\" hidden><div class=\"sk-item\"><div class=\"sk-estimator sk-toggleable\"><input class=\"sk-toggleable__control sk-hidden--visually\" id=\"sk-estimator-id-14\" type=\"checkbox\" checked><label for=\"sk-estimator-id-14\" class=\"sk-toggleable__label sk-toggleable__label-arrow\">GradientBoostingClassifier</label><div class=\"sk-toggleable__content\"><pre>GradientBoostingClassifier(learning_rate=0.2, n_estimators=69, warm_start=True)</pre></div></div></div></div></div>"
      ],
      "text/plain": [
       "GradientBoostingClassifier(learning_rate=0.2, n_estimators=69, warm_start=True)"
      ]
     },
     "execution_count": 115,
     "metadata": {},
     "output_type": "execute_result"
    }
   ],
   "source": [
    "gbt_model = GradientBoostingClassifier(n_estimators=bst_n_estimators_mse+1, max_depth=3, learning_rate=0.2, warm_start=True)\n",
    "gbt_model.fit(X_train, y_train)"
   ]
  },
  {
   "cell_type": "markdown",
   "id": "25c6f950-34ce-40b2-8248-34df10c79cc6",
   "metadata": {},
   "source": [
    "**Confusion matrix on training and test data**"
   ]
  },
  {
   "cell_type": "code",
   "execution_count": 116,
   "id": "fa38bd09-adff-4f80-8213-44f3c9e6437f",
   "metadata": {},
   "outputs": [
    {
     "data": {
      "text/plain": [
       "Text(0.5, 1.0, 'On test set')"
      ]
     },
     "execution_count": 116,
     "metadata": {},
     "output_type": "execute_result"
    },
    {
     "data": {
      "image/png": "[encoded data removed]",
      "text/plain": [
       "<Figure size 1000x400 with 4 Axes>"
      ]
     },
     "metadata": {},
     "output_type": "display_data"
    }
   ],
   "source": [
    "cm_train = confusion_matrix(y_train, gbt_model.predict(X_train))\n",
    "cm_test = confusion_matrix(y_test, gbt_model.predict(X_test))\n",
    "\n",
    "cm_train = pd.DataFrame(cm_train, columns=[\"negative\", \"positive\"], index=['negative', 'positive'])\n",
    "cm_test = pd.DataFrame(cm_test, columns=[\"negative\", \"positive\"], index=['negative', 'positive'])\n",
    "\n",
    "fig, (ax1, ax2) = plt.subplots(1,2, figsize=(10,4))\n",
    "sns.heatmap(cm_train, center=True, vmin=0, annot=True, fmt=\".0f\", linewidth=0.5, ax=ax1, cmap=\"coolwarm\")\n",
    "sns.heatmap(cm_test, center=True, vmin=0, annot=True, fmt=\".0f\", linewidth=0.5, ax=ax2, cmap=\"coolwarm\")\n",
    "\n",
    "ax1.set_title(\"On train set\")\n",
    "ax2.set_title(\"On test set\")"
   ]
  },
  {
   "cell_type": "code",
   "execution_count": 117,
   "id": "9e0e74b3-8f97-44b8-ba92-c7a76e1f99de",
   "metadata": {},
   "outputs": [
    {
     "data": {
      "text/plain": [
       "array([0.97959184, 1.        , 0.94      , 0.97916667, 0.9787234 ,\n",
       "       1.        , 1.        , 1.        , 0.94      , 0.95918367])"
      ]
     },
     "execution_count": 117,
     "metadata": {},
     "output_type": "execute_result"
    }
   ],
   "source": [
    "scores = cross_val_score(gbt_model, X_test, y_test, scoring=\"precision\", cv=10)\n",
    "scores"
   ]
  },
  {
   "cell_type": "markdown",
   "id": "3e6dff96-830e-4b67-a625-b7240e2ccc37",
   "metadata": {},
   "source": [
    "**Train the model with the whole data**"
   ]
  },
  {
   "cell_type": "code",
   "execution_count": 118,
   "id": "35be4f7c-7064-48e9-a4c2-625c7390c8af",
   "metadata": {},
   "outputs": [
    {
     "data": {
      "text/html": [
       "<style>#sk-container-id-15 {color: black;background-color: white;}#sk-container-id-15 pre{padding: 0;}#sk-container-id-15 div.sk-toggleable {background-color: white;}#sk-container-id-15 label.sk-toggleable__label {cursor: pointer;display: block;width: 100%;margin-bottom: 0;padding: 0.3em;box-sizing: border-box;text-align: center;}#sk-container-id-15 label.sk-toggleable__label-arrow:before {content: \"▸\";float: left;margin-right: 0.25em;color: #696969;}#sk-container-id-15 label.sk-toggleable__label-arrow:hover:before {color: black;}#sk-container-id-15 div.sk-estimator:hover label.sk-toggleable__label-arrow:before {color: black;}#sk-container-id-15 div.sk-toggleable__content {max-height: 0;max-width: 0;overflow: hidden;text-align: left;background-color: #f0f8ff;}#sk-container-id-15 div.sk-toggleable__content pre {margin: 0.2em;color: black;border-radius: 0.25em;background-color: #f0f8ff;}#sk-container-id-15 input.sk-toggleable__control:checked~div.sk-toggleable__content {max-height: 200px;max-width: 100%;overflow: auto;}#sk-container-id-15 input.sk-toggleable__control:checked~label.sk-toggleable__label-arrow:before {content: \"▾\";}#sk-container-id-15 div.sk-estimator input.sk-toggleable__control:checked~label.sk-toggleable__label {background-color: #d4ebff;}#sk-container-id-15 div.sk-label input.sk-toggleable__control:checked~label.sk-toggleable__label {background-color: #d4ebff;}#sk-container-id-15 input.sk-hidden--visually {border: 0;clip: rect(1px 1px 1px 1px);clip: rect(1px, 1px, 1px, 1px);height: 1px;margin: -1px;overflow: hidden;padding: 0;position: absolute;width: 1px;}#sk-container-id-15 div.sk-estimator {font-family: monospace;background-color: #f0f8ff;border: 1px dotted black;border-radius: 0.25em;box-sizing: border-box;margin-bottom: 0.5em;}#sk-container-id-15 div.sk-estimator:hover {background-color: #d4ebff;}#sk-container-id-15 div.sk-parallel-item::after {content: \"\";width: 100%;border-bottom: 1px solid gray;flex-grow: 1;}#sk-container-id-15 div.sk-label:hover label.sk-toggleable__label {background-color: #d4ebff;}#sk-container-id-15 div.sk-serial::before {content: \"\";position: absolute;border-left: 1px solid gray;box-sizing: border-box;top: 0;bottom: 0;left: 50%;z-index: 0;}#sk-container-id-15 div.sk-serial {display: flex;flex-direction: column;align-items: center;background-color: white;padding-right: 0.2em;padding-left: 0.2em;position: relative;}#sk-container-id-15 div.sk-item {position: relative;z-index: 1;}#sk-container-id-15 div.sk-parallel {display: flex;align-items: stretch;justify-content: center;background-color: white;position: relative;}#sk-container-id-15 div.sk-item::before, #sk-container-id-15 div.sk-parallel-item::before {content: \"\";position: absolute;border-left: 1px solid gray;box-sizing: border-box;top: 0;bottom: 0;left: 50%;z-index: -1;}#sk-container-id-15 div.sk-parallel-item {display: flex;flex-direction: column;z-index: 1;position: relative;background-color: white;}#sk-container-id-15 div.sk-parallel-item:first-child::after {align-self: flex-end;width: 50%;}#sk-container-id-15 div.sk-parallel-item:last-child::after {align-self: flex-start;width: 50%;}#sk-container-id-15 div.sk-parallel-item:only-child::after {width: 0;}#sk-container-id-15 div.sk-dashed-wrapped {border: 1px dashed gray;margin: 0 0.4em 0.5em 0.4em;box-sizing: border-box;padding-bottom: 0.4em;background-color: white;}#sk-container-id-15 div.sk-label label {font-family: monospace;font-weight: bold;display: inline-block;line-height: 1.2em;}#sk-container-id-15 div.sk-label-container {text-align: center;}#sk-container-id-15 div.sk-container {/* jupyter's `normalize.less` sets `[hidden] { display: none; }` but bootstrap.min.css set `[hidden] { display: none !important; }` so we also need the `!important` here to be able to override the default hidden behavior on the sphinx rendered scikit-learn.org. See: https://github.com/scikit-learn/scikit-learn/issues/21755 */display: inline-block !important;position: relative;}#sk-container-id-15 div.sk-text-repr-fallback {display: none;}</style><div id=\"sk-container-id-15\" class=\"sk-top-container\"><div class=\"sk-text-repr-fallback\"><pre>GradientBoostingClassifier(learning_rate=0.2, n_estimators=69, warm_start=True)</pre><b>In a Jupyter environment, please rerun this cell to show the HTML representation or trust the notebook. <br />On GitHub, the HTML representation is unable to render, please try loading this page with nbviewer.org.</b></div><div class=\"sk-container\" hidden><div class=\"sk-item\"><div class=\"sk-estimator sk-toggleable\"><input class=\"sk-toggleable__control sk-hidden--visually\" id=\"sk-estimator-id-15\" type=\"checkbox\" checked><label for=\"sk-estimator-id-15\" class=\"sk-toggleable__label sk-toggleable__label-arrow\">GradientBoostingClassifier</label><div class=\"sk-toggleable__content\"><pre>GradientBoostingClassifier(learning_rate=0.2, n_estimators=69, warm_start=True)</pre></div></div></div></div></div>"
      ],
      "text/plain": [
       "GradientBoostingClassifier(learning_rate=0.2, n_estimators=69, warm_start=True)"
      ]
     },
     "execution_count": 118,
     "metadata": {},
     "output_type": "execute_result"
    }
   ],
   "source": [
    "gbt_final = GradientBoostingClassifier(n_estimators=bst_n_estimators_mse+1, max_depth=3, learning_rate=0.2, warm_start=True)\n",
    "gbt_final.fit(X, y)"
   ]
  },
  {
   "cell_type": "markdown",
   "id": "3128135a-1bd9-468b-a8b6-34a9da57360a",
   "metadata": {},
   "source": [
    "## **Model:** Random Forest"
   ]
  },
  {
   "cell_type": "code",
   "execution_count": 119,
   "id": "97f2fc47-6f81-45fc-ac2d-3b06716beb1f",
   "metadata": {},
   "outputs": [
    {
     "data": {
      "text/html": [
       "<style>#sk-container-id-16 {color: black;background-color: white;}#sk-container-id-16 pre{padding: 0;}#sk-container-id-16 div.sk-toggleable {background-color: white;}#sk-container-id-16 label.sk-toggleable__label {cursor: pointer;display: block;width: 100%;margin-bottom: 0;padding: 0.3em;box-sizing: border-box;text-align: center;}#sk-container-id-16 label.sk-toggleable__label-arrow:before {content: \"▸\";float: left;margin-right: 0.25em;color: #696969;}#sk-container-id-16 label.sk-toggleable__label-arrow:hover:before {color: black;}#sk-container-id-16 div.sk-estimator:hover label.sk-toggleable__label-arrow:before {color: black;}#sk-container-id-16 div.sk-toggleable__content {max-height: 0;max-width: 0;overflow: hidden;text-align: left;background-color: #f0f8ff;}#sk-container-id-16 div.sk-toggleable__content pre {margin: 0.2em;color: black;border-radius: 0.25em;background-color: #f0f8ff;}#sk-container-id-16 input.sk-toggleable__control:checked~div.sk-toggleable__content {max-height: 200px;max-width: 100%;overflow: auto;}#sk-container-id-16 input.sk-toggleable__control:checked~label.sk-toggleable__label-arrow:before {content: \"▾\";}#sk-container-id-16 div.sk-estimator input.sk-toggleable__control:checked~label.sk-toggleable__label {background-color: #d4ebff;}#sk-container-id-16 div.sk-label input.sk-toggleable__control:checked~label.sk-toggleable__label {background-color: #d4ebff;}#sk-container-id-16 input.sk-hidden--visually {border: 0;clip: rect(1px 1px 1px 1px);clip: rect(1px, 1px, 1px, 1px);height: 1px;margin: -1px;overflow: hidden;padding: 0;position: absolute;width: 1px;}#sk-container-id-16 div.sk-estimator {font-family: monospace;background-color: #f0f8ff;border: 1px dotted black;border-radius: 0.25em;box-sizing: border-box;margin-bottom: 0.5em;}#sk-container-id-16 div.sk-estimator:hover {background-color: #d4ebff;}#sk-container-id-16 div.sk-parallel-item::after {content: \"\";width: 100%;border-bottom: 1px solid gray;flex-grow: 1;}#sk-container-id-16 div.sk-label:hover label.sk-toggleable__label {background-color: #d4ebff;}#sk-container-id-16 div.sk-serial::before {content: \"\";position: absolute;border-left: 1px solid gray;box-sizing: border-box;top: 0;bottom: 0;left: 50%;z-index: 0;}#sk-container-id-16 div.sk-serial {display: flex;flex-direction: column;align-items: center;background-color: white;padding-right: 0.2em;padding-left: 0.2em;position: relative;}#sk-container-id-16 div.sk-item {position: relative;z-index: 1;}#sk-container-id-16 div.sk-parallel {display: flex;align-items: stretch;justify-content: center;background-color: white;position: relative;}#sk-container-id-16 div.sk-item::before, #sk-container-id-16 div.sk-parallel-item::before {content: \"\";position: absolute;border-left: 1px solid gray;box-sizing: border-box;top: 0;bottom: 0;left: 50%;z-index: -1;}#sk-container-id-16 div.sk-parallel-item {display: flex;flex-direction: column;z-index: 1;position: relative;background-color: white;}#sk-container-id-16 div.sk-parallel-item:first-child::after {align-self: flex-end;width: 50%;}#sk-container-id-16 div.sk-parallel-item:last-child::after {align-self: flex-start;width: 50%;}#sk-container-id-16 div.sk-parallel-item:only-child::after {width: 0;}#sk-container-id-16 div.sk-dashed-wrapped {border: 1px dashed gray;margin: 0 0.4em 0.5em 0.4em;box-sizing: border-box;padding-bottom: 0.4em;background-color: white;}#sk-container-id-16 div.sk-label label {font-family: monospace;font-weight: bold;display: inline-block;line-height: 1.2em;}#sk-container-id-16 div.sk-label-container {text-align: center;}#sk-container-id-16 div.sk-container {/* jupyter's `normalize.less` sets `[hidden] { display: none; }` but bootstrap.min.css set `[hidden] { display: none !important; }` so we also need the `!important` here to be able to override the default hidden behavior on the sphinx rendered scikit-learn.org. See: https://github.com/scikit-learn/scikit-learn/issues/21755 */display: inline-block !important;position: relative;}#sk-container-id-16 div.sk-text-repr-fallback {display: none;}</style><div id=\"sk-container-id-16\" class=\"sk-top-container\"><div class=\"sk-text-repr-fallback\"><pre>RandomForestClassifier(max_depth=5, max_samples=1000, n_estimators=300,\n",
       "                       oob_score=True)</pre><b>In a Jupyter environment, please rerun this cell to show the HTML representation or trust the notebook. <br />On GitHub, the HTML representation is unable to render, please try loading this page with nbviewer.org.</b></div><div class=\"sk-container\" hidden><div class=\"sk-item\"><div class=\"sk-estimator sk-toggleable\"><input class=\"sk-toggleable__control sk-hidden--visually\" id=\"sk-estimator-id-16\" type=\"checkbox\" checked><label for=\"sk-estimator-id-16\" class=\"sk-toggleable__label sk-toggleable__label-arrow\">RandomForestClassifier</label><div class=\"sk-toggleable__content\"><pre>RandomForestClassifier(max_depth=5, max_samples=1000, n_estimators=300,\n",
       "                       oob_score=True)</pre></div></div></div></div></div>"
      ],
      "text/plain": [
       "RandomForestClassifier(max_depth=5, max_samples=1000, n_estimators=300,\n",
       "                       oob_score=True)"
      ]
     },
     "execution_count": 119,
     "metadata": {},
     "output_type": "execute_result"
    }
   ],
   "source": [
    "rnf_model = RandomForestClassifier(n_estimators=300, max_depth=5, max_samples=1000, oob_score=True)\n",
    "rnf_model.fit(X_train, y_train)"
   ]
  },
  {
   "cell_type": "code",
   "execution_count": 120,
   "id": "cb83d44c-0cef-41cd-a40c-7d69f94592dc",
   "metadata": {},
   "outputs": [
    {
     "data": {
      "text/plain": [
       "[('cns', 0.003950188645402696),\n",
       " ('cep', 0.008032292188315113),\n",
       " ('cpf', 0.015040547114041418),\n",
       " ('sexo', 0.0004023634331291894),\n",
       " ('nascimento_dia', 0.1335644601027452),\n",
       " ('nascimento_mes', 0.05867598674572576),\n",
       " ('nascimento_ano', 0.1897729603934526),\n",
       " ('primeiro_nome_mae', 0.025806717083481742),\n",
       " ('complemento_nome_mae', 0.1537340099617775),\n",
       " ('primeiro_nome', 4.04900607266708e-09),\n",
       " ('complemento_nome', 0.33053960918544123),\n",
       " ('bairro', 0.05376601080486991),\n",
       " ('rank_primeiro_nome', 0.016097238656184624),\n",
       " ('rank_primeiro_nome_mae', 0.010617611636427177)]"
      ]
     },
     "execution_count": 120,
     "metadata": {},
     "output_type": "execute_result"
    }
   ],
   "source": [
    "list(zip(list(training_data.columns[:-1]), rnf_model.feature_importances_))"
   ]
  },
  {
   "cell_type": "markdown",
   "id": "bfb5fbdd-ab02-4869-8ed3-0f89da92629c",
   "metadata": {},
   "source": [
    "**Confusion matrix on training and test data**"
   ]
  },
  {
   "cell_type": "code",
   "execution_count": 122,
   "id": "abf790c9-4144-4cc8-96bf-f1fa75041d71",
   "metadata": {},
   "outputs": [
    {
     "data": {
      "text/plain": [
       "Text(0.5, 1.0, 'On test set')"
      ]
     },
     "execution_count": 122,
     "metadata": {},
     "output_type": "execute_result"
    },
    {
     "data": {
      "image/png": "[encoded data removed]",
      "text/plain": [
       "<Figure size 1000x400 with 4 Axes>"
      ]
     },
     "metadata": {},
     "output_type": "display_data"
    }
   ],
   "source": [
    "cm_train = confusion_matrix(y_train, rnf_model.predict(X_train))\n",
    "cm_test = confusion_matrix(y_test, rnf_model.predict(X_test))\n",
    "\n",
    "cm_train = pd.DataFrame(cm_train, columns=[\"negative\", \"positive\"], index=['negative', 'positive'])\n",
    "cm_test = pd.DataFrame(cm_test, columns=[\"negative\", \"positive\"], index=['negative', 'positive'])\n",
    "\n",
    "fig, (ax1, ax2) = plt.subplots(1,2, figsize=(10,4))\n",
    "sns.heatmap(cm_train, center=True, vmin=0, annot=True, fmt=\".0f\", linewidth=0.5, ax=ax1, cmap=\"coolwarm\")\n",
    "sns.heatmap(cm_test, center=True, vmin=0, annot=True, fmt=\".0f\", linewidth=0.5, ax=ax2, cmap=\"coolwarm\")\n",
    "\n",
    "ax1.set_title(\"On train set\")\n",
    "ax2.set_title(\"On test set\")"
   ]
  },
  {
   "cell_type": "code",
   "execution_count": 123,
   "id": "03a4b15c-5564-4b12-a133-59621254c6cc",
   "metadata": {},
   "outputs": [
    {
     "data": {
      "text/plain": [
       "array([0.99479167, 1.        , 0.98963731, 0.99479167, 0.99479167,\n",
       "       0.99479167, 0.98453608, 0.98453608, 0.97938144, 0.88479263])"
      ]
     },
     "execution_count": 123,
     "metadata": {},
     "output_type": "execute_result"
    }
   ],
   "source": [
    "scores = cross_val_score(rnf_model, X, y, scoring=\"precision\", cv=10)\n",
    "scores"
   ]
  },
  {
   "cell_type": "markdown",
   "id": "22c375d2-74b6-4290-bd04-9befe6defd09",
   "metadata": {},
   "source": [
    "## **Model:** Logistic Regression"
   ]
  },
  {
   "cell_type": "code",
   "execution_count": 128,
   "id": "b5dd4ec8-0d3a-48ef-955e-b0330483ea08",
   "metadata": {},
   "outputs": [],
   "source": [
    "# L1 Regression\n",
    "logit_models = [ (LogisticRegression(C=lbda, penalty=\"l1\", solver=\"liblinear\", max_iter=100), lbda) for lbda in np.arange(0.5, 6.0, 0.5) ]\n",
    "\n",
    "precision_scores_l1 = []\n",
    "for cur_inst in logit_models:\n",
    "    cur_model, cur_lbda = cur_inst[0], cur_inst[1]\n",
    "    score = cross_val_score(cur_model, X, y, scoring=\"precision\", cv=10).mean()\n",
    "    precision_scores_l1.append((cur_lbda, score))"
   ]
  },
  {
   "cell_type": "code",
   "execution_count": 127,
   "id": "08cd00c4-2d24-4da5-84bc-286988ccddb0",
   "metadata": {},
   "outputs": [],
   "source": [
    "# L2 Regression\n",
    "logit_models = [ (LogisticRegression(C=lbda, penalty=\"l2\", max_iter=200, verbose=0), lbda) for lbda in np.arange(0.5, 6.0, 0.5) ]\n",
    "\n",
    "precision_scores_l2 = []\n",
    "for cur_inst in logit_models:\n",
    "    cur_model, cur_lbda = cur_inst[0], cur_inst[1]\n",
    "    score = cross_val_score(cur_model, X, y, scoring=\"precision\", cv=10).mean()\n",
    "    precision_scores_l2.append((cur_lbda, score))"
   ]
  },
  {
   "cell_type": "code",
   "execution_count": 130,
   "id": "604eded8-e3b9-4669-b8e7-b14d646f64bb",
   "metadata": {},
   "outputs": [
    {
     "name": "stderr",
     "output_type": "stream",
     "text": [
      "C:\\Users\\higor.monteiro\\AppData\\Local\\Temp\\ipykernel_12496\\804533613.py:18: UserWarning: FixedFormatter should only be used together with FixedLocator\n",
      "  ax1.set_yticklabels([f\"{x:0.4f}\" for x in ax1.get_yticks()], rotation=-10)\n",
      "C:\\Users\\higor.monteiro\\AppData\\Local\\Temp\\ipykernel_12496\\804533613.py:19: UserWarning: FixedFormatter should only be used together with FixedLocator\n",
      "  ax2.set_yticklabels([f\"{x:0.4f}\" for x in ax2.get_yticks()], rotation=-10)\n"
     ]
    },
    {
     "data": {
      "image/png": "[encoded data removed]",
      "text/plain": [
       "<Figure size 1100x400 with 2 Axes>"
      ]
     },
     "metadata": {},
     "output_type": "display_data"
    }
   ],
   "source": [
    "fig, (ax1, ax2) = plt.subplots(1, 2, figsize=(11,4), sharey=True)\n",
    "for axis in [ax1, ax2]:\n",
    "    axis.spines['top'].set_linewidth(0)\n",
    "    axis.spines['right'].set_linewidth(0)\n",
    "    axis.grid(alpha=0.1)\n",
    "    axis.spines['left'].set_position(('outward', 5))\n",
    "    axis.spines['bottom'].set_position(('outward', 5))\n",
    "    axis.tick_params(direction=\"out\")\n",
    "    axis.set_xticks(np.arange(0.5, 6.0, 0.5))\n",
    "    axis.set_xticklabels([f\"{x}\" for x in np.arange(0.5, 6.0, 0.5)], rotation=45)\n",
    "\n",
    "ax1.plot([x[0] for x in precision_scores_l1], [x[1] for x in precision_scores_l1], marker=\"o\", ls=\":\")\n",
    "ax2.plot([x[0] for x in precision_scores_l2], [x[1] for x in precision_scores_l2], marker=\"o\", ls=\":\")\n",
    "ax1.set_xlabel(r\"L1($\\lambda$)\", fontsize=14)\n",
    "ax2.set_xlabel(r\"L2($\\lambda$)\", fontsize=14)\n",
    "ax1.set_ylabel(r\"Precision score\", fontsize=14)\n",
    "\n",
    "ax1.set_yticklabels([f\"{x:0.4f}\" for x in ax1.get_yticks()], rotation=-10)\n",
    "ax2.set_yticklabels([f\"{x:0.4f}\" for x in ax2.get_yticks()], rotation=-10)\n",
    "\n",
    "\n",
    "plt.tight_layout()"
   ]
  },
  {
   "cell_type": "code",
   "execution_count": 131,
   "id": "e04f4f42-776e-4e68-82f2-a806636f078b",
   "metadata": {},
   "outputs": [
    {
     "name": "stderr",
     "output_type": "stream",
     "text": [
      "C:\\Users\\higor.monteiro\\Miniconda3\\envs\\cevepi\\lib\\site-packages\\sklearn\\linear_model\\_logistic.py:444: ConvergenceWarning: lbfgs failed to converge (status=1):\n",
      "STOP: TOTAL NO. of ITERATIONS REACHED LIMIT.\n",
      "\n",
      "Increase the number of iterations (max_iter) or scale the data as shown in:\n",
      "    https://scikit-learn.org/stable/modules/preprocessing.html\n",
      "Please also refer to the documentation for alternative solver options:\n",
      "    https://scikit-learn.org/stable/modules/linear_model.html#logistic-regression\n",
      "  n_iter_i = _check_optimize_result(\n"
     ]
    },
    {
     "data": {
      "text/html": [
       "<style>#sk-container-id-17 {color: black;background-color: white;}#sk-container-id-17 pre{padding: 0;}#sk-container-id-17 div.sk-toggleable {background-color: white;}#sk-container-id-17 label.sk-toggleable__label {cursor: pointer;display: block;width: 100%;margin-bottom: 0;padding: 0.3em;box-sizing: border-box;text-align: center;}#sk-container-id-17 label.sk-toggleable__label-arrow:before {content: \"▸\";float: left;margin-right: 0.25em;color: #696969;}#sk-container-id-17 label.sk-toggleable__label-arrow:hover:before {color: black;}#sk-container-id-17 div.sk-estimator:hover label.sk-toggleable__label-arrow:before {color: black;}#sk-container-id-17 div.sk-toggleable__content {max-height: 0;max-width: 0;overflow: hidden;text-align: left;background-color: #f0f8ff;}#sk-container-id-17 div.sk-toggleable__content pre {margin: 0.2em;color: black;border-radius: 0.25em;background-color: #f0f8ff;}#sk-container-id-17 input.sk-toggleable__control:checked~div.sk-toggleable__content {max-height: 200px;max-width: 100%;overflow: auto;}#sk-container-id-17 input.sk-toggleable__control:checked~label.sk-toggleable__label-arrow:before {content: \"▾\";}#sk-container-id-17 div.sk-estimator input.sk-toggleable__control:checked~label.sk-toggleable__label {background-color: #d4ebff;}#sk-container-id-17 div.sk-label input.sk-toggleable__control:checked~label.sk-toggleable__label {background-color: #d4ebff;}#sk-container-id-17 input.sk-hidden--visually {border: 0;clip: rect(1px 1px 1px 1px);clip: rect(1px, 1px, 1px, 1px);height: 1px;margin: -1px;overflow: hidden;padding: 0;position: absolute;width: 1px;}#sk-container-id-17 div.sk-estimator {font-family: monospace;background-color: #f0f8ff;border: 1px dotted black;border-radius: 0.25em;box-sizing: border-box;margin-bottom: 0.5em;}#sk-container-id-17 div.sk-estimator:hover {background-color: #d4ebff;}#sk-container-id-17 div.sk-parallel-item::after {content: \"\";width: 100%;border-bottom: 1px solid gray;flex-grow: 1;}#sk-container-id-17 div.sk-label:hover label.sk-toggleable__label {background-color: #d4ebff;}#sk-container-id-17 div.sk-serial::before {content: \"\";position: absolute;border-left: 1px solid gray;box-sizing: border-box;top: 0;bottom: 0;left: 50%;z-index: 0;}#sk-container-id-17 div.sk-serial {display: flex;flex-direction: column;align-items: center;background-color: white;padding-right: 0.2em;padding-left: 0.2em;position: relative;}#sk-container-id-17 div.sk-item {position: relative;z-index: 1;}#sk-container-id-17 div.sk-parallel {display: flex;align-items: stretch;justify-content: center;background-color: white;position: relative;}#sk-container-id-17 div.sk-item::before, #sk-container-id-17 div.sk-parallel-item::before {content: \"\";position: absolute;border-left: 1px solid gray;box-sizing: border-box;top: 0;bottom: 0;left: 50%;z-index: -1;}#sk-container-id-17 div.sk-parallel-item {display: flex;flex-direction: column;z-index: 1;position: relative;background-color: white;}#sk-container-id-17 div.sk-parallel-item:first-child::after {align-self: flex-end;width: 50%;}#sk-container-id-17 div.sk-parallel-item:last-child::after {align-self: flex-start;width: 50%;}#sk-container-id-17 div.sk-parallel-item:only-child::after {width: 0;}#sk-container-id-17 div.sk-dashed-wrapped {border: 1px dashed gray;margin: 0 0.4em 0.5em 0.4em;box-sizing: border-box;padding-bottom: 0.4em;background-color: white;}#sk-container-id-17 div.sk-label label {font-family: monospace;font-weight: bold;display: inline-block;line-height: 1.2em;}#sk-container-id-17 div.sk-label-container {text-align: center;}#sk-container-id-17 div.sk-container {/* jupyter's `normalize.less` sets `[hidden] { display: none; }` but bootstrap.min.css set `[hidden] { display: none !important; }` so we also need the `!important` here to be able to override the default hidden behavior on the sphinx rendered scikit-learn.org. See: https://github.com/scikit-learn/scikit-learn/issues/21755 */display: inline-block !important;position: relative;}#sk-container-id-17 div.sk-text-repr-fallback {display: none;}</style><div id=\"sk-container-id-17\" class=\"sk-top-container\"><div class=\"sk-text-repr-fallback\"><pre>LogisticRegression(C=3.5)</pre><b>In a Jupyter environment, please rerun this cell to show the HTML representation or trust the notebook. <br />On GitHub, the HTML representation is unable to render, please try loading this page with nbviewer.org.</b></div><div class=\"sk-container\" hidden><div class=\"sk-item\"><div class=\"sk-estimator sk-toggleable\"><input class=\"sk-toggleable__control sk-hidden--visually\" id=\"sk-estimator-id-17\" type=\"checkbox\" checked><label for=\"sk-estimator-id-17\" class=\"sk-toggleable__label sk-toggleable__label-arrow\">LogisticRegression</label><div class=\"sk-toggleable__content\"><pre>LogisticRegression(C=3.5)</pre></div></div></div></div></div>"
      ],
      "text/plain": [
       "LogisticRegression(C=3.5)"
      ]
     },
     "execution_count": 131,
     "metadata": {},
     "output_type": "execute_result"
    }
   ],
   "source": [
    "lgt_model = LogisticRegression(C=3.5, penalty=\"l2\")\n",
    "lgt_model.fit(X_train, y_train)"
   ]
  },
  {
   "cell_type": "markdown",
   "id": "642834e2-3417-48e8-9fad-daafe3b1465b",
   "metadata": {},
   "source": [
    "**Confusion matrix on training and test data**"
   ]
  },
  {
   "cell_type": "code",
   "execution_count": 132,
   "id": "86580058-ea17-4e5b-8bdc-b546a8733f6c",
   "metadata": {},
   "outputs": [
    {
     "data": {
      "text/plain": [
       "Text(0.5, 1.0, 'On test set')"
      ]
     },
     "execution_count": 132,
     "metadata": {},
     "output_type": "execute_result"
    },
    {
     "data": {
      "image/png": "[encoded data removed]",
      "text/plain": [
       "<Figure size 1000x400 with 4 Axes>"
      ]
     },
     "metadata": {},
     "output_type": "display_data"
    }
   ],
   "source": [
    "cm_train = confusion_matrix(y_train, lgt_model.predict(X_train))\n",
    "cm_test = confusion_matrix(y_test, lgt_model.predict(X_test))\n",
    "\n",
    "cm_train = pd.DataFrame(cm_train, columns=[\"negative\", \"positive\"], index=['negative', 'positive'])\n",
    "cm_test = pd.DataFrame(cm_test, columns=[\"negative\", \"positive\"], index=['negative', 'positive'])\n",
    "\n",
    "fig, (ax1, ax2) = plt.subplots(1,2, figsize=(10,4))\n",
    "sns.heatmap(cm_train, center=True, vmin=0, annot=True, fmt=\".0f\", linewidth=0.5, ax=ax1, cmap=\"coolwarm\")\n",
    "sns.heatmap(cm_test, center=True, vmin=0, annot=True, fmt=\".0f\", linewidth=0.5, ax=ax2, cmap=\"coolwarm\")\n",
    "\n",
    "ax1.set_title(\"On train set\")\n",
    "ax2.set_title(\"On test set\")"
   ]
  },
  {
   "cell_type": "markdown",
   "id": "1b9eae11-8de6-4f86-8427-30441b637e3f",
   "metadata": {},
   "source": [
    "**Train the model with the whole data**"
   ]
  },
  {
   "cell_type": "code",
   "execution_count": 133,
   "id": "1b88f6ca-14f3-4406-83b5-0b61af204c6b",
   "metadata": {},
   "outputs": [
    {
     "name": "stderr",
     "output_type": "stream",
     "text": [
      "C:\\Users\\higor.monteiro\\Miniconda3\\envs\\cevepi\\lib\\site-packages\\sklearn\\linear_model\\_logistic.py:444: ConvergenceWarning: lbfgs failed to converge (status=1):\n",
      "STOP: TOTAL NO. of ITERATIONS REACHED LIMIT.\n",
      "\n",
      "Increase the number of iterations (max_iter) or scale the data as shown in:\n",
      "    https://scikit-learn.org/stable/modules/preprocessing.html\n",
      "Please also refer to the documentation for alternative solver options:\n",
      "    https://scikit-learn.org/stable/modules/linear_model.html#logistic-regression\n",
      "  n_iter_i = _check_optimize_result(\n"
     ]
    },
    {
     "data": {
      "text/html": [
       "<style>#sk-container-id-18 {color: black;background-color: white;}#sk-container-id-18 pre{padding: 0;}#sk-container-id-18 div.sk-toggleable {background-color: white;}#sk-container-id-18 label.sk-toggleable__label {cursor: pointer;display: block;width: 100%;margin-bottom: 0;padding: 0.3em;box-sizing: border-box;text-align: center;}#sk-container-id-18 label.sk-toggleable__label-arrow:before {content: \"▸\";float: left;margin-right: 0.25em;color: #696969;}#sk-container-id-18 label.sk-toggleable__label-arrow:hover:before {color: black;}#sk-container-id-18 div.sk-estimator:hover label.sk-toggleable__label-arrow:before {color: black;}#sk-container-id-18 div.sk-toggleable__content {max-height: 0;max-width: 0;overflow: hidden;text-align: left;background-color: #f0f8ff;}#sk-container-id-18 div.sk-toggleable__content pre {margin: 0.2em;color: black;border-radius: 0.25em;background-color: #f0f8ff;}#sk-container-id-18 input.sk-toggleable__control:checked~div.sk-toggleable__content {max-height: 200px;max-width: 100%;overflow: auto;}#sk-container-id-18 input.sk-toggleable__control:checked~label.sk-toggleable__label-arrow:before {content: \"▾\";}#sk-container-id-18 div.sk-estimator input.sk-toggleable__control:checked~label.sk-toggleable__label {background-color: #d4ebff;}#sk-container-id-18 div.sk-label input.sk-toggleable__control:checked~label.sk-toggleable__label {background-color: #d4ebff;}#sk-container-id-18 input.sk-hidden--visually {border: 0;clip: rect(1px 1px 1px 1px);clip: rect(1px, 1px, 1px, 1px);height: 1px;margin: -1px;overflow: hidden;padding: 0;position: absolute;width: 1px;}#sk-container-id-18 div.sk-estimator {font-family: monospace;background-color: #f0f8ff;border: 1px dotted black;border-radius: 0.25em;box-sizing: border-box;margin-bottom: 0.5em;}#sk-container-id-18 div.sk-estimator:hover {background-color: #d4ebff;}#sk-container-id-18 div.sk-parallel-item::after {content: \"\";width: 100%;border-bottom: 1px solid gray;flex-grow: 1;}#sk-container-id-18 div.sk-label:hover label.sk-toggleable__label {background-color: #d4ebff;}#sk-container-id-18 div.sk-serial::before {content: \"\";position: absolute;border-left: 1px solid gray;box-sizing: border-box;top: 0;bottom: 0;left: 50%;z-index: 0;}#sk-container-id-18 div.sk-serial {display: flex;flex-direction: column;align-items: center;background-color: white;padding-right: 0.2em;padding-left: 0.2em;position: relative;}#sk-container-id-18 div.sk-item {position: relative;z-index: 1;}#sk-container-id-18 div.sk-parallel {display: flex;align-items: stretch;justify-content: center;background-color: white;position: relative;}#sk-container-id-18 div.sk-item::before, #sk-container-id-18 div.sk-parallel-item::before {content: \"\";position: absolute;border-left: 1px solid gray;box-sizing: border-box;top: 0;bottom: 0;left: 50%;z-index: -1;}#sk-container-id-18 div.sk-parallel-item {display: flex;flex-direction: column;z-index: 1;position: relative;background-color: white;}#sk-container-id-18 div.sk-parallel-item:first-child::after {align-self: flex-end;width: 50%;}#sk-container-id-18 div.sk-parallel-item:last-child::after {align-self: flex-start;width: 50%;}#sk-container-id-18 div.sk-parallel-item:only-child::after {width: 0;}#sk-container-id-18 div.sk-dashed-wrapped {border: 1px dashed gray;margin: 0 0.4em 0.5em 0.4em;box-sizing: border-box;padding-bottom: 0.4em;background-color: white;}#sk-container-id-18 div.sk-label label {font-family: monospace;font-weight: bold;display: inline-block;line-height: 1.2em;}#sk-container-id-18 div.sk-label-container {text-align: center;}#sk-container-id-18 div.sk-container {/* jupyter's `normalize.less` sets `[hidden] { display: none; }` but bootstrap.min.css set `[hidden] { display: none !important; }` so we also need the `!important` here to be able to override the default hidden behavior on the sphinx rendered scikit-learn.org. See: https://github.com/scikit-learn/scikit-learn/issues/21755 */display: inline-block !important;position: relative;}#sk-container-id-18 div.sk-text-repr-fallback {display: none;}</style><div id=\"sk-container-id-18\" class=\"sk-top-container\"><div class=\"sk-text-repr-fallback\"><pre>LogisticRegression(C=3.5)</pre><b>In a Jupyter environment, please rerun this cell to show the HTML representation or trust the notebook. <br />On GitHub, the HTML representation is unable to render, please try loading this page with nbviewer.org.</b></div><div class=\"sk-container\" hidden><div class=\"sk-item\"><div class=\"sk-estimator sk-toggleable\"><input class=\"sk-toggleable__control sk-hidden--visually\" id=\"sk-estimator-id-18\" type=\"checkbox\" checked><label for=\"sk-estimator-id-18\" class=\"sk-toggleable__label sk-toggleable__label-arrow\">LogisticRegression</label><div class=\"sk-toggleable__content\"><pre>LogisticRegression(C=3.5)</pre></div></div></div></div></div>"
      ],
      "text/plain": [
       "LogisticRegression(C=3.5)"
      ]
     },
     "execution_count": 133,
     "metadata": {},
     "output_type": "execute_result"
    }
   ],
   "source": [
    "lgt_model = LogisticRegression(C=3.5, penalty=\"l2\")\n",
    "lgt_model.fit(X, y)"
   ]
  },
  {
   "cell_type": "code",
   "execution_count": null,
   "id": "16081f07-4c08-457e-a14b-ada8a470a0ce",
   "metadata": {},
   "outputs": [],
   "source": []
  },
  {
   "cell_type": "markdown",
   "id": "15bbbc3d-f0b0-4489-80a0-55876f46bd99",
   "metadata": {},
   "source": [
    "## **Persist the models**"
   ]
  },
  {
   "cell_type": "code",
   "execution_count": 135,
   "id": "d30d458c-766d-46b7-885d-a2fde2e1d0e0",
   "metadata": {},
   "outputs": [
    {
     "data": {
      "text/plain": [
       "['\\\\Users\\\\higor.monteiro\\\\Documents\\\\data\\\\SIVEP-GRIPE\\\\TRAINED_MODELS\\\\LOGITREG_SIVEP04SET2023.joblib']"
      ]
     },
     "execution_count": 135,
     "metadata": {},
     "output_type": "execute_result"
    }
   ],
   "source": [
    "dump(gbt_model, os.path.join(basepath, \"TRAINED_MODELS\", \"GRADBOOST_SIVEP04SET2023.joblib\"))\n",
    "dump(rnf_model, os.path.join(basepath, \"TRAINED_MODELS\", \"RANDFOREST_SIVEP04SET2023.joblib\"))\n",
    "dump(lgt_model, os.path.join(basepath, \"TRAINED_MODELS\", \"LOGITREG_SIVEP04SET2023.joblib\"))"
   ]
  },
  {
   "cell_type": "code",
   "execution_count": null,
   "id": "7a14c7b0-bf2e-4172-8888-8995db188d7e",
   "metadata": {},
   "outputs": [],
   "source": []
  }
 ],
 "metadata": {
  "kernelspec": {
   "display_name": "Python 3 (ipykernel)",
   "language": "python",
   "name": "python3"
  },
  "language_info": {
   "codemirror_mode": {
    "name": "ipython",
    "version": 3
   },
   "file_extension": ".py",
   "mimetype": "text/x-python",
   "name": "python",
   "nbconvert_exporter": "python",
   "pygments_lexer": "ipython3",
   "version": "3.9.16"
  }
 },
 "nbformat": 4,
 "nbformat_minor": 5
}
