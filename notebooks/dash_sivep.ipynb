{
 "cells": [
  {
   "cell_type": "markdown",
   "id": "4643a58e-580f-443a-941c-b962ac2819ee",
   "metadata": {},
   "source": [
    "# **Lib**"
   ]
  },
  {
   "cell_type": "code",
   "execution_count": 1,
   "id": "ca7a71fc-5cb1-4218-b9ce-e166ee195cfe",
   "metadata": {},
   "outputs": [],
   "source": [
    "import os\n",
    "import sys\n",
    "sys.path.append(\"..\")\n",
    "sys.path.append(os.path.join(\"..\", \"..\", \"linkage-saude\"))"
   ]
  },
  {
   "cell_type": "code",
   "execution_count": 26,
   "id": "87dbe581-1be5-43cd-a55d-4a9ab03e4d1e",
   "metadata": {},
   "outputs": [],
   "source": [
    "import json\n",
    "import numpy as np\n",
    "import pandas as pd\n",
    "import datetime as dt\n",
    "from dateutil.relativedelta import relativedelta\n",
    "from simpledbf import Dbf5\n",
    "\n",
    "# -- data matching\n",
    "from linkage_saude.matching import PLinkage\n",
    "# -- database connection\n",
    "from epimonitor import WarehouseSUS\n",
    "from epimonitor.process_layer import ProcessBase, ProcessSivep"
   ]
  },
  {
   "cell_type": "code",
   "execution_count": 3,
   "id": "21c57837-e9f4-4700-90e4-cd252b52093e",
   "metadata": {},
   "outputs": [],
   "source": [
    "from jupyter_dash import JupyterDash\n",
    "from dash import dcc, html, Dash, Input, Output, State, callback_context, dash_table\n",
    "import dash_bootstrap_components as dbc\n",
    "import dash_echarts"
   ]
  },
  {
   "cell_type": "markdown",
   "id": "55061c21-1d3f-4b05-8fd4-d3e5e94e712a",
   "metadata": {},
   "source": [
    "# **Database connection**"
   ]
  },
  {
   "cell_type": "code",
   "execution_count": 4,
   "id": "97de6215-cadc-4356-86f4-276439a3f8ce",
   "metadata": {},
   "outputs": [],
   "source": [
    "# ---------- Database Connection ----------\n",
    "datapath = os.path.join(os.environ[\"HOMEPATH\"], \"Documents\", \"data\")\n",
    "suspath = os.path.join(datapath, \"DATASUS_WAREHOUSE\", \"datasus_pessoas.db\")\n",
    "engine_url = f\"sqlite:///{suspath}\"\n",
    "\n",
    "warehouse = WarehouseSUS(engine_url)\n",
    "engine = warehouse.db_init()"
   ]
  },
  {
   "cell_type": "code",
   "execution_count": 12,
   "id": "d4eebee6-f79c-48d3-bba7-ff5ab1ea98fd",
   "metadata": {},
   "outputs": [
    {
     "data": {
      "text/plain": [
       "99878"
      ]
     },
     "execution_count": 12,
     "metadata": {},
     "output_type": "execute_result"
    }
   ],
   "source": [
    "warehouse.number_of_records('sivep_gripe')"
   ]
  },
  {
   "cell_type": "code",
   "execution_count": 13,
   "id": "47786fbb-878f-4d7e-9362-c8e6d88a7d62",
   "metadata": {},
   "outputs": [
    {
     "data": {
      "text/html": [
       "<div>\n",
       "<style scoped>\n",
       "    .dataframe tbody tr th:only-of-type {\n",
       "        vertical-align: middle;\n",
       "    }\n",
       "\n",
       "    .dataframe tbody tr th {\n",
       "        vertical-align: top;\n",
       "    }\n",
       "\n",
       "    .dataframe thead th {\n",
       "        text-align: right;\n",
       "    }\n",
       "</style>\n",
       "<table border=\"1\" class=\"dataframe\">\n",
       "  <thead>\n",
       "    <tr style=\"text-align: right;\">\n",
       "      <th></th>\n",
       "      <th>ID_SIVEP</th>\n",
       "      <th>DATA_NOTIFICACAO</th>\n",
       "      <th>NOME_PACIENTE</th>\n",
       "      <th>DATA_NASCIMENTO</th>\n",
       "      <th>SEXO</th>\n",
       "      <th>NOME_MAE</th>\n",
       "      <th>LOGRADOURO</th>\n",
       "      <th>LOGRADOURO_NUMERO</th>\n",
       "      <th>BAIRRO_RESIDENCIA</th>\n",
       "      <th>MUNICIPIO_RESIDENCIA</th>\n",
       "      <th>CEP</th>\n",
       "      <th>CNS</th>\n",
       "      <th>CPF</th>\n",
       "      <th>CNES</th>\n",
       "      <th>DATA_SINTOMAS</th>\n",
       "      <th>CLASSIFICACAO_FINAL</th>\n",
       "      <th>CRITERIO</th>\n",
       "      <th>EVOLUCAO</th>\n",
       "      <th>CRIADO_EM</th>\n",
       "      <th>ATUALIZADO_EM</th>\n",
       "    </tr>\n",
       "  </thead>\n",
       "  <tbody>\n",
       "    <tr>\n",
       "      <th>1101</th>\n",
       "      <td>31688453495379</td>\n",
       "      <td>2023-07-04</td>\n",
       "      <td>MARIA ELISA COSTA REBOUCAS</td>\n",
       "      <td>2023-05-05</td>\n",
       "      <td>F</td>\n",
       "      <td>None</td>\n",
       "      <td>RUA SAO RAIMUNDO</td>\n",
       "      <td>37</td>\n",
       "      <td>CAIS DO PORTO</td>\n",
       "      <td>230440</td>\n",
       "      <td>60000000</td>\n",
       "      <td>701008819894990</td>\n",
       "      <td>None</td>\n",
       "      <td>2526638</td>\n",
       "      <td>2023-07-04</td>\n",
       "      <td>None</td>\n",
       "      <td>None</td>\n",
       "      <td>None</td>\n",
       "      <td>2023-08-11 15:21:13.123705</td>\n",
       "      <td>2023-08-11 15:21:13.123705</td>\n",
       "    </tr>\n",
       "    <tr>\n",
       "      <th>1418</th>\n",
       "      <td>31689860677705</td>\n",
       "      <td>2023-07-19</td>\n",
       "      <td>MARIA DAS DORES DE SOUSA</td>\n",
       "      <td>1950-05-19</td>\n",
       "      <td>F</td>\n",
       "      <td>RAIMUNDA MORAIS DE SOUSA</td>\n",
       "      <td>RUA ARMANDO MONTEIRO</td>\n",
       "      <td>145</td>\n",
       "      <td>VILA UNIAO</td>\n",
       "      <td>230440</td>\n",
       "      <td>None</td>\n",
       "      <td>706809212092620</td>\n",
       "      <td>None</td>\n",
       "      <td>2497654</td>\n",
       "      <td>2023-07-13</td>\n",
       "      <td>None</td>\n",
       "      <td>None</td>\n",
       "      <td>None</td>\n",
       "      <td>2023-08-11 15:21:13.170533</td>\n",
       "      <td>2023-08-11 15:21:13.170533</td>\n",
       "    </tr>\n",
       "    <tr>\n",
       "      <th>96</th>\n",
       "      <td>31685849216509</td>\n",
       "      <td>2023-06-04</td>\n",
       "      <td>RN DE LILIA BAZILIO CAVALCANTE</td>\n",
       "      <td>2023-04-19</td>\n",
       "      <td>M</td>\n",
       "      <td>LILIA BAZILIO VACALCANTE</td>\n",
       "      <td>RUA TAQUARI</td>\n",
       "      <td>1063</td>\n",
       "      <td>BOM SUCESSO</td>\n",
       "      <td>230440</td>\n",
       "      <td>None</td>\n",
       "      <td>898006323436932</td>\n",
       "      <td>None</td>\n",
       "      <td>2526638</td>\n",
       "      <td>2023-06-04</td>\n",
       "      <td>2</td>\n",
       "      <td>1</td>\n",
       "      <td>1</td>\n",
       "      <td>2023-08-11 15:21:11.352481</td>\n",
       "      <td>2023-08-11 15:21:11.352481</td>\n",
       "    </tr>\n",
       "    <tr>\n",
       "      <th>1594</th>\n",
       "      <td>31691157830669</td>\n",
       "      <td>2023-08-04</td>\n",
       "      <td>GABRIEL DA SILVA FERNANDES</td>\n",
       "      <td>2021-06-20</td>\n",
       "      <td>M</td>\n",
       "      <td>MARIA DAS CANDEIAS DA SILVA FIGUEIREDO</td>\n",
       "      <td>RUA MANOEL DIOGENES</td>\n",
       "      <td>6603</td>\n",
       "      <td>PAES BOTAO</td>\n",
       "      <td>230690</td>\n",
       "      <td>63475000</td>\n",
       "      <td>709009835083914</td>\n",
       "      <td>11966729383</td>\n",
       "      <td>2526638</td>\n",
       "      <td>2023-08-03</td>\n",
       "      <td>None</td>\n",
       "      <td>None</td>\n",
       "      <td>None</td>\n",
       "      <td>2023-08-11 15:21:13.186124</td>\n",
       "      <td>2023-08-11 15:21:13.186124</td>\n",
       "    </tr>\n",
       "  </tbody>\n",
       "</table>\n",
       "</div>"
      ],
      "text/plain": [
       "            ID_SIVEP DATA_NOTIFICACAO                   NOME_PACIENTE  \\\n",
       "1101  31688453495379       2023-07-04      MARIA ELISA COSTA REBOUCAS   \n",
       "1418  31689860677705       2023-07-19        MARIA DAS DORES DE SOUSA   \n",
       "96    31685849216509       2023-06-04  RN DE LILIA BAZILIO CAVALCANTE   \n",
       "1594  31691157830669       2023-08-04      GABRIEL DA SILVA FERNANDES   \n",
       "\n",
       "     DATA_NASCIMENTO SEXO                                NOME_MAE  \\\n",
       "1101      2023-05-05    F                                    None   \n",
       "1418      1950-05-19    F                RAIMUNDA MORAIS DE SOUSA   \n",
       "96        2023-04-19    M                LILIA BAZILIO VACALCANTE   \n",
       "1594      2021-06-20    M  MARIA DAS CANDEIAS DA SILVA FIGUEIREDO   \n",
       "\n",
       "                LOGRADOURO LOGRADOURO_NUMERO BAIRRO_RESIDENCIA  \\\n",
       "1101      RUA SAO RAIMUNDO                37     CAIS DO PORTO   \n",
       "1418  RUA ARMANDO MONTEIRO               145        VILA UNIAO   \n",
       "96             RUA TAQUARI              1063       BOM SUCESSO   \n",
       "1594   RUA MANOEL DIOGENES              6603        PAES BOTAO   \n",
       "\n",
       "     MUNICIPIO_RESIDENCIA       CEP              CNS          CPF     CNES  \\\n",
       "1101               230440  60000000  701008819894990         None  2526638   \n",
       "1418               230440      None  706809212092620         None  2497654   \n",
       "96                 230440      None  898006323436932         None  2526638   \n",
       "1594               230690  63475000  709009835083914  11966729383  2526638   \n",
       "\n",
       "     DATA_SINTOMAS CLASSIFICACAO_FINAL CRITERIO EVOLUCAO  \\\n",
       "1101    2023-07-04                None     None     None   \n",
       "1418    2023-07-13                None     None     None   \n",
       "96      2023-06-04                   2        1        1   \n",
       "1594    2023-08-03                None     None     None   \n",
       "\n",
       "                      CRIADO_EM              ATUALIZADO_EM  \n",
       "1101 2023-08-11 15:21:13.123705 2023-08-11 15:21:13.123705  \n",
       "1418 2023-08-11 15:21:13.170533 2023-08-11 15:21:13.170533  \n",
       "96   2023-08-11 15:21:11.352481 2023-08-11 15:21:11.352481  \n",
       "1594 2023-08-11 15:21:13.186124 2023-08-11 15:21:13.186124  "
      ]
     },
     "execution_count": 13,
     "metadata": {},
     "output_type": "execute_result"
    }
   ],
   "source": [
    "pd.DataFrame(warehouse.query_period('sivep_gripe', date_col='DATA_NOTIFICACAO', period=(dt.datetime(2023, 6, 1), None))).sample(n=4)"
   ]
  },
  {
   "cell_type": "code",
   "execution_count": null,
   "id": "2809597e-ac0b-4dc3-82ff-150046c7ff06",
   "metadata": {},
   "outputs": [],
   "source": []
  },
  {
   "cell_type": "markdown",
   "id": "27a75e86-13c3-4eb6-933e-a8942fff9ff0",
   "metadata": {},
   "source": [
    "# **App Layout**"
   ]
  },
  {
   "cell_type": "markdown",
   "id": "1650b13c-d51f-4cd4-a91c-9043f4e654f3",
   "metadata": {},
   "source": [
    "## Definitions"
   ]
  },
  {
   "cell_type": "markdown",
   "id": "4ccd0f9a-25ea-4b17-9ee4-b1f7eb4ae077",
   "metadata": {},
   "source": [
    "**Row #1**"
   ]
  },
  {
   "cell_type": "code",
   "execution_count": 14,
   "id": "67699848-411e-4e5b-a80f-19f99aa0fd6b",
   "metadata": {},
   "outputs": [],
   "source": [
    "card_sivep = dbc.Card(\n",
    "    [\n",
    "        #dbc.CardImg(src=\"/static/images/placeholder286x180.png\", top=True),\n",
    "        dbc.CardBody(\n",
    "            [\n",
    "                html.H3(\"SIVEP-Gripe\", className=\"card-title\"),\n",
    "                html.P(\n",
    "                    '''O Sistema de Informação da Vigilância Epidemiológica da Gripe (SIVEP-Gripe) foi implantado\n",
    "                       desde o ano de 2000 para monitoramento do vírus influenza no país, a partir de uma rede de\n",
    "                       vigilância sentinela da síndrome gripal (SG). Em 2009, com a pandemia pelo Vírus Influenza\n",
    "                       A(H1N1) pdm09 foi implantada a vigilância da Síndrome Respiratória Aguda Grave (SRAG) e,\n",
    "                       a partir disso, o Ministério da Saúde vem fortalecendo a vigilância dos vírus respiratórios,\n",
    "                       \n",
    "                       Em 20 de março de 2020 foi declarada a transmissão comunitária da Doença pelo Coronavírus 2019 (COVID-19) \n",
    "                       em todo o território nacional. Com isso, a Secretaria de Vigilância em Saúde do Ministério da Saúde (SVS/MS) \n",
    "                       realizou a adaptação do Sistema de Vigilância de Síndromes Respiratórias Agudas, visando orientar o Sistema \n",
    "                       Nacional de Vigilância em Saúde para a circulação simultânea do novo coronavírus (SARS-CoV-2), Influenza e \n",
    "                       outros vírus respiratórios no âmbito da Emergência de Saúde Pública de Importância Nacional (ESPIN) \n",
    "                       (Portaria GM 188/2020). ''',\n",
    "                    className=\"card-text\",  style={'textAlign': 'justify', 'fontSize': 12}\n",
    "                ),\n",
    "                dbc.Button(\"Go somewhere\", color=\"primary\"),\n",
    "            ]\n",
    "        ),\n",
    "    ],\n",
    "    style={\"width\": \"22rem\"},\n",
    ")\n",
    "\n",
    "import dash_html_components as html\n",
    "import dash_table\n",
    "import pandas as pd\n",
    "\n",
    "# CUSTOM DATATABLE\n",
    "def data_table(df):\n",
    "    table = html.Div(\n",
    "        className='table table-responsive-md p-3',\n",
    "        children=dash_table.DataTable(\n",
    "                id='tabella-milano',\n",
    "                data=df.to_dict('records'),\n",
    "                columns=[{'id': c, 'name': c} for c in df.columns],\n",
    "    \n",
    "                page_size=50, \n",
    "                filter_action=\"native\",\n",
    "                sort_action=\"native\",\n",
    "                sort_mode=\"single\",\n",
    "                column_selectable=\"single\",\n",
    "                style_table={\"fontFamily\": '-apple-system,BlinkMacSystemFont,\"Segoe UI\",Roboto,\"Helvetica Neue\",Arial,\"Noto Sans\",sans-serif,\"Apple Color Emoji\",\"Segoe UI Emoji\",\"Segoe UI Symbol\",\"Noto Color Emoji\"'},\n",
    "                style_header={\n",
    "                        'backgroundColor': 'white',\n",
    "                        'fontWeight': 'bold',\n",
    "                        'padding':'0.75rem'\n",
    "                    },\n",
    "                style_cell={\n",
    "                    \"fontFamily\": '-apple-system,BlinkMacSystemFont,\"Segoe UI\",Roboto,\"Helvetica Neue\",Arial,\"Noto Sans\",sans-serif,\"Apple Color Emoji\",\"Segoe UI Emoji\",\"Segoe UI Symbol\",\"Noto Color Emoji\"',\n",
    "                    'fontWeight': '400',\n",
    "                    'lineHeight': '1.5',\n",
    "                    'color': '#212529',\n",
    "                    'textAlign': 'left',\n",
    "                    'whiteSpace': 'normal',\n",
    "                    'height': 'auto',\n",
    "                    'padding':'0.75rem',\n",
    "                    'border': '1px solid #dee2e6',\n",
    "                    'verticalAlign': 'top',\n",
    "                },\n",
    "                style_data_conditional=[\n",
    "                {\n",
    "                    'if': {'row_index': 'odd'},\n",
    "                    'backgroundColor': '#f8f9fa'\n",
    "                }\n",
    "            ],\n",
    "                ))\n",
    "\n",
    "    return table"
   ]
  },
  {
   "cell_type": "code",
   "execution_count": 38,
   "id": "4a1c35d2-cb6f-4aa7-a692-efc21a5e9309",
   "metadata": {},
   "outputs": [],
   "source": [
    "# -- Graph - Number of notifications\n",
    "dt_init = dt.datetime(2022, 1, 1)\n",
    "dt_final = dt.datetime(2023, 5, 30)\n",
    "\n",
    "date_weeks = [dt_init]\n",
    "while date_weeks[-1]<=dt_final:\n",
    "    date_weeks += [ date_weeks[-1]+relativedelta(days=+6) ]\n",
    "    \n",
    "# number of notifications per week\n",
    "notific_n = []\n",
    "for n in range(len(date_weeks)-1):\n",
    "    rec = warehouse.query_period('sivep_gripe', date_col=\"DATA_NOTIFICACAO\", period=(date_weeks[n], date_weeks[n+1]))\n",
    "    notific_n += [len(rec)]"
   ]
  },
  {
   "cell_type": "code",
   "execution_count": 39,
   "id": "da2c63d0-9b72-454b-b046-3f9a65170f14",
   "metadata": {},
   "outputs": [
    {
     "data": {
      "text/plain": [
       "86"
      ]
     },
     "execution_count": 39,
     "metadata": {},
     "output_type": "execute_result"
    }
   ],
   "source": [
    "len(notific_n)"
   ]
  },
  {
   "cell_type": "code",
   "execution_count": null,
   "id": "1d690243-1f17-44c8-8119-59fce759717a",
   "metadata": {},
   "outputs": [],
   "source": [
    "option = {\n",
    "  'tooltip': {\n",
    "    'trigger': 'axis',\n",
    "    'position': [0,0],\n",
    "    }\n",
    "  },\n",
    "  title: {\n",
    "    left: 'center',\n",
    "    text: 'Large Area Chart'\n",
    "  },\n",
    "  toolbox: {\n",
    "    feature: {\n",
    "      dataZoom: {\n",
    "        yAxisIndex: 'none'\n",
    "      },\n",
    "      restore: {},\n",
    "      saveAsImage: {}\n",
    "    }\n",
    "  },\n",
    "  'xAxis': {\n",
    "    type: 'category',\n",
    "    boundaryGap: false,\n",
    "    data: date\n",
    "  },\n",
    "  yAxis: {\n",
    "    type: 'value',\n",
    "    boundaryGap: [0, '100%']\n",
    "  },\n",
    "  dataZoom: [\n",
    "    {\n",
    "      type: 'inside',\n",
    "      start: 0,\n",
    "      end: 10\n",
    "    },\n",
    "    {\n",
    "      start: 0,\n",
    "      end: 10\n",
    "    }\n",
    "  ],\n",
    "  series: [\n",
    "    {\n",
    "      name: 'Fake Data',\n",
    "      type: 'line',\n",
    "      symbol: 'none',\n",
    "      sampling: 'lttb',\n",
    "      itemStyle: {\n",
    "        color: 'rgb(255, 70, 131)'\n",
    "      },\n",
    "      areaStyle: {\n",
    "        color: new echarts.graphic.LinearGradient(0, 0, 0, 1, [\n",
    "          {\n",
    "            offset: 0,\n",
    "            color: 'rgb(255, 158, 68)'\n",
    "          },\n",
    "          {\n",
    "            offset: 1,\n",
    "            color: 'rgb(255, 70, 131)'\n",
    "          }\n",
    "        ])\n",
    "      },\n",
    "      data: data\n",
    "    }\n",
    "  ]\n",
    "};\n",
    "\n",
    "\n",
    "option =  {\n",
    "        'xAxis': {\n",
    "            'type': 'category',\n",
    "            'data': ['Mon', 'Tue', 'Wed', 'Thu', 'Fri', 'Sat', 'Sun']\n",
    "        },\n",
    "        'yAxis': {\n",
    "            'type': 'value'\n",
    "        },\n",
    "        'series': [{\n",
    "            'data': gen_randlist(200),\n",
    "            'type': 'line',\n",
    "            'smooth': True\n",
    "        }, {\n",
    "            'data': gen_randlist(200),\n",
    "            'type': 'line',\n",
    "            'smooth': True\n",
    "        }]\n",
    "    }\n",
    "\n",
    "option_graph = {\n",
    "    'series': {\n",
    "        'type': 'bar',\n",
    "    }\n",
    "}\n",
    "\n",
    "echart_graph_holder = html.Div([\n",
    "        dash_echarts.DashECharts(\n",
    "            option = option,\n",
    "            id='echarts',\n",
    "            style={\n",
    "                \"width\": '100vw',\n",
    "                \"height\": '100vh',\n",
    "            }\n",
    "        ),\n",
    "        #dcc.Interval(id=\"interval\", interval=1 * 1000, n_intervals=0),\n",
    "    ])"
   ]
  },
  {
   "cell_type": "markdown",
   "id": "75c79924-2a2c-48ea-8abd-9627990e05b6",
   "metadata": {},
   "source": [
    "## Layout"
   ]
  },
  {
   "cell_type": "code",
   "execution_count": 19,
   "id": "e48d52bc-ddec-4d62-b6ac-ee88050c2376",
   "metadata": {},
   "outputs": [],
   "source": [
    "app = JupyterDash(__name__, external_stylesheets=[dbc.themes.MINTY])\n",
    "\n",
    "app.layout = dbc.Container([\n",
    "    # -------- ROW 1\n",
    "    dbc.Row([\n",
    "        # -------- COLUMNS OF ROW 1\n",
    "        # -------- COLUMN 1 (CARD OF INTRODUCTION TO SIVEP)\n",
    "        dbc.Col([\n",
    "            card_sivep\n",
    "        ], width={\"size\": 4}),\n",
    "        # -------- COLUMN 2 (CARD OF NUMBER OF NOTIFICATIONS)\n",
    "        dbc.Col([\n",
    "            #card_sivep\n",
    "            dbc.Card(\n",
    "                 dbc.CardBody(\n",
    "                    [\n",
    "                        html.H4(\"Card with Graph\", className=\"card-title\"),\n",
    "                        #graph,  # Placing the graph component inside the card body\n",
    "                    ]\n",
    "                )\n",
    "            ),\n",
    "        ], width={\"size\": 8}, align='center'),\n",
    "        \n",
    "        # ---- ROW 1 SETTINGS\n",
    "    ], align='center', className=\"g-0\", justify='center'),\n",
    "    \n",
    "], fluid=True)"
   ]
  },
  {
   "cell_type": "code",
   "execution_count": null,
   "id": "d479fb8c-8fa4-4f36-8ccf-2e5bf5e85d82",
   "metadata": {},
   "outputs": [],
   "source": []
  },
  {
   "cell_type": "code",
   "execution_count": null,
   "id": "bd0a1c37-f289-443a-8976-8f2163dfe811",
   "metadata": {},
   "outputs": [],
   "source": []
  },
  {
   "cell_type": "markdown",
   "id": "7941f2b4-834c-4cc0-8db3-2ff900b45fbd",
   "metadata": {},
   "source": [
    "**Run app**"
   ]
  },
  {
   "cell_type": "code",
   "execution_count": 20,
   "id": "089726a1-06d6-4e3f-ba01-703acb6e493e",
   "metadata": {},
   "outputs": [
    {
     "name": "stdout",
     "output_type": "stream",
     "text": [
      "Dash is running on http://127.0.0.1:8064/\n",
      "\n"
     ]
    },
    {
     "data": {
      "text/html": [
       "\n",
       "        <iframe\n",
       "            width=\"100%\"\n",
       "            height=\"650\"\n",
       "            src=\"http://127.0.0.1:8064/\"\n",
       "            frameborder=\"0\"\n",
       "            allowfullscreen\n",
       "            \n",
       "        ></iframe>\n",
       "        "
      ],
      "text/plain": [
       "<IPython.lib.display.IFrame at 0x247ccbfbbe0>"
      ]
     },
     "metadata": {},
     "output_type": "display_data"
    }
   ],
   "source": [
    "if __name__==\"__main__\":\n",
    "    app.run_server(debug=True, port=8064, mode='inline')"
   ]
  },
  {
   "cell_type": "code",
   "execution_count": 101,
   "id": "bc57b0b6-5e60-4152-9d01-7661c3d05484",
   "metadata": {},
   "outputs": [
    {
     "name": "stdout",
     "output_type": "stream",
     "text": [
      "Dash is running on http://127.0.0.1:8065/\n",
      "\n"
     ]
    },
    {
     "data": {
      "text/html": [
       "\n",
       "        <iframe\n",
       "            width=\"100%\"\n",
       "            height=\"650\"\n",
       "            src=\"http://127.0.0.1:8065/\"\n",
       "            frameborder=\"0\"\n",
       "            allowfullscreen\n",
       "            \n",
       "        ></iframe>\n",
       "        "
      ],
      "text/plain": [
       "<IPython.lib.display.IFrame at 0x2149e2c8940>"
      ]
     },
     "metadata": {},
     "output_type": "display_data"
    }
   ],
   "source": [
    "import dash\n",
    "import dash_bootstrap_components as dbc\n",
    "import dash_core_components as dcc\n",
    "#import dash_html_components as html\n",
    "import plotly.express as px\n",
    "\n",
    "app = JupyterDash(__name__, external_stylesheets=[dbc.themes.BOOTSTRAP])\n",
    "\n",
    "# Create a sample graph\n",
    "data = px.data.tips()\n",
    "graph = dcc.Graph(figure=px.scatter(data, x=\"total_bill\", y=\"tip\", color=\"sex\", title=\"Sample Graph\"))\n",
    "\n",
    "app.layout = html.Div(\n",
    "    dbc.Container(\n",
    "        [\n",
    "            dbc.Row(\n",
    "                [\n",
    "                    dbc.Col(\n",
    "                        dbc.Card(\n",
    "                            dbc.CardBody(\n",
    "                                [\n",
    "                                    html.H4(\"Card with Text\", className=\"card-title\"),\n",
    "                                    html.P(\"This is an example card with some text content.\"),\n",
    "                                ]\n",
    "                            )\n",
    "                        ),\n",
    "                        width=4,\n",
    "                    ),\n",
    "                    dbc.Col(\n",
    "                        graph,\n",
    "                        width=7,\n",
    "                    ),\n",
    "                ]\n",
    "            ),\n",
    "        ],\n",
    "        fluid=True,\n",
    "    )\n",
    ")\n",
    "\n",
    "if __name__ == \"__main__\":\n",
    "    app.run_server(debug=True, port=8065, mode='inline')"
   ]
  },
  {
   "cell_type": "code",
   "execution_count": 96,
   "id": "783fb814-dac4-4d81-91ba-5480c0f0c023",
   "metadata": {},
   "outputs": [
    {
     "ename": "SystemExit",
     "evalue": "1",
     "output_type": "error",
     "traceback": [
      "\u001b[1;31m---------------------------------------------------------------------------\u001b[0m",
      "\u001b[1;31mSystemExit\u001b[0m                                Traceback (most recent call last)",
      "Input \u001b[1;32mIn [95]\u001b[0m, in \u001b[0;36m<cell line: 40>\u001b[1;34m()\u001b[0m\n\u001b[0;32m     13\u001b[0m app\u001b[38;5;241m.\u001b[39mlayout \u001b[38;5;241m=\u001b[39m html\u001b[38;5;241m.\u001b[39mDiv(\n\u001b[0;32m     14\u001b[0m     dbc\u001b[38;5;241m.\u001b[39mContainer(\n\u001b[0;32m     15\u001b[0m         [\n\u001b[1;32m   (...)\u001b[0m\n\u001b[0;32m     37\u001b[0m     )\n\u001b[0;32m     38\u001b[0m )\n\u001b[0;32m     40\u001b[0m \u001b[38;5;28;01mif\u001b[39;00m \u001b[38;5;18m__name__\u001b[39m \u001b[38;5;241m==\u001b[39m \u001b[38;5;124m\"\u001b[39m\u001b[38;5;124m__main__\u001b[39m\u001b[38;5;124m\"\u001b[39m:\n\u001b[1;32m---> 41\u001b[0m     \u001b[43mapp\u001b[49m\u001b[38;5;241;43m.\u001b[39;49m\u001b[43mrun_server\u001b[49m\u001b[43m(\u001b[49m\u001b[43mdebug\u001b[49m\u001b[38;5;241;43m=\u001b[39;49m\u001b[38;5;28;43;01mTrue\u001b[39;49;00m\u001b[43m)\u001b[49m\n",
      "File \u001b[1;32m~\\Miniconda3\\envs\\cevepi\\lib\\site-packages\\dash\\dash.py:2129\u001b[0m, in \u001b[0;36mDash.run_server\u001b[1;34m(self, *args, **kwargs)\u001b[0m\n\u001b[0;32m   2123\u001b[0m \u001b[38;5;28;01mdef\u001b[39;00m \u001b[38;5;21mrun_server\u001b[39m(\u001b[38;5;28mself\u001b[39m, \u001b[38;5;241m*\u001b[39margs, \u001b[38;5;241m*\u001b[39m\u001b[38;5;241m*\u001b[39mkwargs):\n\u001b[0;32m   2124\u001b[0m     \u001b[38;5;124;03m\"\"\"`run_server` is a deprecated alias of `run` and may be removed in a\u001b[39;00m\n\u001b[0;32m   2125\u001b[0m \u001b[38;5;124;03m    future version. We recommend using `app.run` instead.\u001b[39;00m\n\u001b[0;32m   2126\u001b[0m \n\u001b[0;32m   2127\u001b[0m \u001b[38;5;124;03m    See `app.run` for usage information.\u001b[39;00m\n\u001b[0;32m   2128\u001b[0m \u001b[38;5;124;03m    \"\"\"\u001b[39;00m\n\u001b[1;32m-> 2129\u001b[0m     \u001b[38;5;28mself\u001b[39m\u001b[38;5;241m.\u001b[39mrun(\u001b[38;5;241m*\u001b[39margs, \u001b[38;5;241m*\u001b[39m\u001b[38;5;241m*\u001b[39mkwargs)\n",
      "File \u001b[1;32m~\\Miniconda3\\envs\\cevepi\\lib\\site-packages\\dash\\dash.py:1989\u001b[0m, in \u001b[0;36mDash.run\u001b[1;34m(self, host, port, proxy, debug, dev_tools_ui, dev_tools_props_check, dev_tools_serve_dev_bundles, dev_tools_hot_reload, dev_tools_hot_reload_interval, dev_tools_hot_reload_watch_interval, dev_tools_hot_reload_max_retry, dev_tools_silence_routes_logging, dev_tools_prune_errors, **flask_run_options)\u001b[0m\n\u001b[0;32m   1986\u001b[0m         \u001b[38;5;28;01melif\u001b[39;00m os\u001b[38;5;241m.\u001b[39mpath\u001b[38;5;241m.\u001b[39misfile(path):\n\u001b[0;32m   1987\u001b[0m             extra_files\u001b[38;5;241m.\u001b[39mappend(path)\n\u001b[1;32m-> 1989\u001b[0m \u001b[38;5;28mself\u001b[39m\u001b[38;5;241m.\u001b[39mserver\u001b[38;5;241m.\u001b[39mrun(host\u001b[38;5;241m=\u001b[39mhost, port\u001b[38;5;241m=\u001b[39mport, debug\u001b[38;5;241m=\u001b[39mdebug, \u001b[38;5;241m*\u001b[39m\u001b[38;5;241m*\u001b[39mflask_run_options)\n",
      "File \u001b[1;32m~\\Miniconda3\\envs\\cevepi\\lib\\site-packages\\flask\\app.py:1191\u001b[0m, in \u001b[0;36mFlask.run\u001b[1;34m(self, host, port, debug, load_dotenv, **options)\u001b[0m\n\u001b[0;32m   1188\u001b[0m \u001b[38;5;28;01mfrom\u001b[39;00m \u001b[38;5;21;01mwerkzeug\u001b[39;00m\u001b[38;5;21;01m.\u001b[39;00m\u001b[38;5;21;01mserving\u001b[39;00m \u001b[38;5;28;01mimport\u001b[39;00m run_simple\n\u001b[0;32m   1190\u001b[0m \u001b[38;5;28;01mtry\u001b[39;00m:\n\u001b[1;32m-> 1191\u001b[0m     run_simple(t\u001b[38;5;241m.\u001b[39mcast(\u001b[38;5;28mstr\u001b[39m, host), port, \u001b[38;5;28mself\u001b[39m, \u001b[38;5;241m*\u001b[39m\u001b[38;5;241m*\u001b[39moptions)\n\u001b[0;32m   1192\u001b[0m \u001b[38;5;28;01mfinally\u001b[39;00m:\n\u001b[0;32m   1193\u001b[0m     \u001b[38;5;66;03m# reset the first request information if the development server\u001b[39;00m\n\u001b[0;32m   1194\u001b[0m     \u001b[38;5;66;03m# reset normally.  This makes it possible to restart the server\u001b[39;00m\n\u001b[0;32m   1195\u001b[0m     \u001b[38;5;66;03m# without reloader and that stuff from an interactive shell.\u001b[39;00m\n\u001b[0;32m   1196\u001b[0m     \u001b[38;5;28mself\u001b[39m\u001b[38;5;241m.\u001b[39m_got_first_request \u001b[38;5;241m=\u001b[39m \u001b[38;5;28;01mFalse\u001b[39;00m\n",
      "File \u001b[1;32m~\\Miniconda3\\envs\\cevepi\\lib\\site-packages\\werkzeug\\serving.py:1059\u001b[0m, in \u001b[0;36mrun_simple\u001b[1;34m(hostname, port, application, use_reloader, use_debugger, use_evalex, extra_files, exclude_patterns, reloader_interval, reloader_type, threaded, processes, request_handler, static_files, passthrough_errors, ssl_context)\u001b[0m\n\u001b[0;32m   1056\u001b[0m \u001b[38;5;28;01mfrom\u001b[39;00m \u001b[38;5;21;01m.\u001b[39;00m\u001b[38;5;21;01m_reloader\u001b[39;00m \u001b[38;5;28;01mimport\u001b[39;00m run_with_reloader\n\u001b[0;32m   1058\u001b[0m \u001b[38;5;28;01mtry\u001b[39;00m:\n\u001b[1;32m-> 1059\u001b[0m     \u001b[43mrun_with_reloader\u001b[49m\u001b[43m(\u001b[49m\n\u001b[0;32m   1060\u001b[0m \u001b[43m        \u001b[49m\u001b[43msrv\u001b[49m\u001b[38;5;241;43m.\u001b[39;49m\u001b[43mserve_forever\u001b[49m\u001b[43m,\u001b[49m\n\u001b[0;32m   1061\u001b[0m \u001b[43m        \u001b[49m\u001b[43mextra_files\u001b[49m\u001b[38;5;241;43m=\u001b[39;49m\u001b[43mextra_files\u001b[49m\u001b[43m,\u001b[49m\n\u001b[0;32m   1062\u001b[0m \u001b[43m        \u001b[49m\u001b[43mexclude_patterns\u001b[49m\u001b[38;5;241;43m=\u001b[39;49m\u001b[43mexclude_patterns\u001b[49m\u001b[43m,\u001b[49m\n\u001b[0;32m   1063\u001b[0m \u001b[43m        \u001b[49m\u001b[43minterval\u001b[49m\u001b[38;5;241;43m=\u001b[39;49m\u001b[43mreloader_interval\u001b[49m\u001b[43m,\u001b[49m\n\u001b[0;32m   1064\u001b[0m \u001b[43m        \u001b[49m\u001b[43mreloader_type\u001b[49m\u001b[38;5;241;43m=\u001b[39;49m\u001b[43mreloader_type\u001b[49m\u001b[43m,\u001b[49m\n\u001b[0;32m   1065\u001b[0m \u001b[43m    \u001b[49m\u001b[43m)\u001b[49m\n\u001b[0;32m   1066\u001b[0m \u001b[38;5;28;01mfinally\u001b[39;00m:\n\u001b[0;32m   1067\u001b[0m     srv\u001b[38;5;241m.\u001b[39mserver_close()\n",
      "File \u001b[1;32m~\\Miniconda3\\envs\\cevepi\\lib\\site-packages\\werkzeug\\_reloader.py:444\u001b[0m, in \u001b[0;36mrun_with_reloader\u001b[1;34m(main_func, extra_files, exclude_patterns, interval, reloader_type)\u001b[0m\n\u001b[0;32m    442\u001b[0m             reloader\u001b[38;5;241m.\u001b[39mrun()\n\u001b[0;32m    443\u001b[0m     \u001b[38;5;28;01melse\u001b[39;00m:\n\u001b[1;32m--> 444\u001b[0m         \u001b[43msys\u001b[49m\u001b[38;5;241;43m.\u001b[39;49m\u001b[43mexit\u001b[49m\u001b[43m(\u001b[49m\u001b[43mreloader\u001b[49m\u001b[38;5;241;43m.\u001b[39;49m\u001b[43mrestart_with_reloader\u001b[49m\u001b[43m(\u001b[49m\u001b[43m)\u001b[49m\u001b[43m)\u001b[49m\n\u001b[0;32m    445\u001b[0m \u001b[38;5;28;01mexcept\u001b[39;00m \u001b[38;5;167;01mKeyboardInterrupt\u001b[39;00m:\n\u001b[0;32m    446\u001b[0m     \u001b[38;5;28;01mpass\u001b[39;00m\n",
      "\u001b[1;31mSystemExit\u001b[0m: 1"
     ]
    }
   ],
   "source": [
    "%tb"
   ]
  },
  {
   "cell_type": "code",
   "execution_count": 102,
   "id": "835afd40-8ec8-476d-902d-2bf247460518",
   "metadata": {},
   "outputs": [
    {
     "name": "stdout",
     "output_type": "stream",
     "text": [
      "Dash is running on http://127.0.0.1:8066/\n",
      "\n"
     ]
    },
    {
     "data": {
      "text/html": [
       "\n",
       "        <iframe\n",
       "            width=\"100%\"\n",
       "            height=\"650\"\n",
       "            src=\"http://127.0.0.1:8066/\"\n",
       "            frameborder=\"0\"\n",
       "            allowfullscreen\n",
       "            \n",
       "        ></iframe>\n",
       "        "
      ],
      "text/plain": [
       "<IPython.lib.display.IFrame at 0x214a14a1c10>"
      ]
     },
     "metadata": {},
     "output_type": "display_data"
    }
   ],
   "source": [
    "app = JupyterDash(__name__, external_stylesheets=[dbc.themes.BOOTSTRAP])\n",
    "\n",
    "# Create a sample graph\n",
    "data = px.data.tips()\n",
    "graph = dcc.Graph(figure=px.scatter(data, x=\"total_bill\", y=\"tip\", color=\"sex\", title=\"Sample Graph\"))\n",
    "\n",
    "app.layout = html.Div(\n",
    "    dbc.Container(\n",
    "        [\n",
    "            dbc.Row(\n",
    "                [\n",
    "                    dbc.Col(\n",
    "                        dbc.Card(\n",
    "                            dbc.CardBody(\n",
    "                                [\n",
    "                                    html.H4(\"Card with Graph\", className=\"card-title\"),\n",
    "                                    graph,  # Placing the graph component inside the card body\n",
    "                                ]\n",
    "                            )\n",
    "                        ),\n",
    "                        width=4,\n",
    "                    ),\n",
    "                    dbc.Col(\n",
    "                        graph,  # You can also have a separate graph here if needed\n",
    "                        width=7,\n",
    "                    ),\n",
    "                ]\n",
    "            ),\n",
    "        ],\n",
    "        fluid=True,\n",
    "    )\n",
    ")\n",
    "\n",
    "if __name__ == \"__main__\":\n",
    "    app.run_server(debug=True, port=8066, mode='inline')"
   ]
  },
  {
   "cell_type": "code",
   "execution_count": null,
   "id": "37a4235c-3b17-4b2f-a0c5-914c209eb6ff",
   "metadata": {},
   "outputs": [],
   "source": []
  }
 ],
 "metadata": {
  "kernelspec": {
   "display_name": "Python 3 (ipykernel)",
   "language": "python",
   "name": "python3"
  },
  "language_info": {
   "codemirror_mode": {
    "name": "ipython",
    "version": 3
   },
   "file_extension": ".py",
   "mimetype": "text/x-python",
   "name": "python",
   "nbconvert_exporter": "python",
   "pygments_lexer": "ipython3",
   "version": "3.9.16"
  }
 },
 "nbformat": 4,
 "nbformat_minor": 5
}
