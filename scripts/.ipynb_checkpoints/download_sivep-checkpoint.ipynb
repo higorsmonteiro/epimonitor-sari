{
 "cells": [
  {
   "cell_type": "markdown",
   "id": "69afe7ad-33c9-48d5-8bf2-b8f4d86a1520",
   "metadata": {},
   "source": [
    "## **Script:** \n",
    "**Download SIVEP-GRIPE data**"
   ]
  },
  {
   "cell_type": "code",
   "execution_count": 53,
   "id": "f41b9c38-c334-4f6b-83ec-3aee13fbe1e6",
   "metadata": {},
   "outputs": [],
   "source": [
    "import os\n",
    "import sys\n",
    "sys.path.append( os.path.dirname(os.path.abspath('')) )\n",
    "sys.path.append( os.path.abspath(os.path.join(os.path.dirname(os.path.abspath('')), '..', 'linkage-saude')) )\n",
    "\n",
    "import glob\n",
    "import zipfile\n",
    "import datetime as dt\n",
    "\n",
    "from injectsus.collector import SivepPipe"
   ]
  },
  {
   "cell_type": "code",
   "execution_count": 54,
   "id": "771551a4-52d9-4138-9608-5fb51172cdbe",
   "metadata": {},
   "outputs": [
    {
     "data": {
      "text/plain": [
       "'\\\\07-08-2023'"
      ]
     },
     "execution_count": 54,
     "metadata": {},
     "output_type": "execute_result"
    }
   ],
   "source": [
    "basefolder = os.path.join(os.environ[\"HOMEPATH\"], 'Documents', 'data', 'SIVEP-Gripe')\n",
    "\n",
    "current_date = dt.date.today()\n",
    "date_str = rf\"\\{current_date.day:2.0f}-{current_date.month:2.0f}-{current_date.year}\".replace(\" \", \"0\")\n",
    "date_str"
   ]
  },
  {
   "cell_type": "code",
   "execution_count": 55,
   "id": "37247c39-647d-4348-8ebc-4851e5c63bea",
   "metadata": {},
   "outputs": [],
   "source": [
    "download_folder = r'C:\\Users\\higor.monteiro\\Documents\\data\\SIVEP-Gripe\\DOWNLOAD_AUTO'+date_str\n",
    "certification = {\n",
    "    \"username\": \"millenakosloski@hotmail.com\",\n",
    "    \"password\": \"Pitoco@1307\"\n",
    "}"
   ]
  },
  {
   "cell_type": "code",
   "execution_count": 56,
   "id": "8403ebd4-4d71-4b2b-a8ca-85a49f1eb1c8",
   "metadata": {},
   "outputs": [
    {
     "data": {
      "text/plain": [
       "'C:\\\\Users\\\\higor.monteiro\\\\Documents\\\\data\\\\SIVEP-Gripe\\\\DOWNLOAD_AUTO\\\\07-08-2023'"
      ]
     },
     "execution_count": 56,
     "metadata": {},
     "output_type": "execute_result"
    }
   ],
   "source": [
    "download_folder"
   ]
  },
  {
   "cell_type": "markdown",
   "id": "abf6945e-cdcb-4090-b850-2ee5e6366fcd",
   "metadata": {},
   "source": [
    "### **Request data:** 2020 to 2023"
   ]
  },
  {
   "cell_type": "code",
   "execution_count": 65,
   "id": "34d7c474-05c7-4bda-8970-54ee4e53f544",
   "metadata": {},
   "outputs": [
    {
     "data": {
      "text/plain": [
       "<injectsus.collector.sivep_collector.SivepPipe at 0x18d8befddf0>"
      ]
     },
     "execution_count": 65,
     "metadata": {},
     "output_type": "execute_result"
    }
   ],
   "source": [
    "collector = SivepPipe(certification, download_folder=download_folder, headless=False)\n",
    "collector.login()"
   ]
  },
  {
   "cell_type": "code",
   "execution_count": 66,
   "id": "86bcac56-6e37-456d-ac6f-df0086d1d3f6",
   "metadata": {},
   "outputs": [],
   "source": [
    "requisition_lst = []"
   ]
  },
  {
   "cell_type": "markdown",
   "id": "f13aa098-b6bb-41d8-973e-9520129f4db5",
   "metadata": {},
   "source": [
    "**2020**"
   ]
  },
  {
   "cell_type": "code",
   "execution_count": 67,
   "id": "f25f752b-0ada-4126-bf8f-62c3ca84fd21",
   "metadata": {},
   "outputs": [
    {
     "name": "stdout",
     "output_type": "stream",
     "text": [
      "waiting for file from requisition 1970628, refresh 1 ... not yet.\n",
      "waiting for file from requisition 1970628, refresh 2 ... not yet.\n"
     ]
    },
    {
     "name": "stderr",
     "output_type": "stream",
     "text": [
      "\n",
      "KeyboardInterrupt\n",
      "\n"
     ]
    }
   ],
   "source": [
    "# -- download data\n",
    "collector.request_dbf('2020', '1', '25', requisition_export=os.path.join(basefolder, 'REQUISITION_AUTO.csv')).query_file().download_file(sleep_time=6, verbose=True, max_loop=50)\n",
    "requisition_lst.append(collector.requisition_number)\n",
    "collector.request_dbf('2020', '26', '52', requisition_export=os.path.join(basefolder, 'REQUISITION_AUTO.csv')).query_file().download_file(sleep_time=6, verbose=True, max_loop=50)\n",
    "requisition_lst.append(collector.requisition_number)"
   ]
  },
  {
   "cell_type": "code",
   "execution_count": 68,
   "id": "d068cbd8-5040-49bf-ab7a-e05d0ec7f1ab",
   "metadata": {},
   "outputs": [],
   "source": [
    "#zipfilelst = [ fname for fname in glob.glob(os.path.join(basefolder, 'DOWNLOAD_AUTO', '*.zip')) if current_req in fname ]\n",
    "#with zipfile.ZipFile(zipfilelst[0], 'r') as fzip:\n",
    "#    fzip.extractall(os.path.join(basefolder, 'DOWNLOAD_AUTO'))\n",
    "collector.close_browser()"
   ]
  },
  {
   "cell_type": "markdown",
   "id": "a1c3f712-e3fa-4104-ab91-d2668433d1bf",
   "metadata": {},
   "source": [
    "**2021**"
   ]
  },
  {
   "cell_type": "code",
   "execution_count": null,
   "id": "973d51d5-afa2-49f6-aa31-34325919d326",
   "metadata": {},
   "outputs": [],
   "source": [
    "# -- download data\n",
    "collector.request_dbf('2021', '1', '25', requisition_export=os.path.join(basefolder, 'REQUISITION_AUTO.csv')).query_file().download_file(sleep_time=6, verbose=True)\n",
    "requisition_lst.append(collector.requisition_number)\n",
    "collector.request_dbf('2021', '26', '52', requisition_export=os.path.join(basefolder, 'REQUISITION_AUTO.csv')).query_file().download_file(sleep_time=6, verbose=True)\n",
    "requisition_lst.append(collector.requisition_number)"
   ]
  },
  {
   "cell_type": "code",
   "execution_count": 20,
   "id": "65ccf45d-d4c6-4818-b984-7afb4cb72d17",
   "metadata": {},
   "outputs": [
    {
     "name": "stdout",
     "output_type": "stream",
     "text": [
      "Pagina Principal\n"
     ]
    }
   ],
   "source": [
    "collector.locate_page()"
   ]
  },
  {
   "cell_type": "markdown",
   "id": "f17bb2c5-b6ac-42c5-bb0d-f37ca6330230",
   "metadata": {},
   "source": [
    "**2022**"
   ]
  },
  {
   "cell_type": "code",
   "execution_count": null,
   "id": "8df136b6-fb2b-4976-8c6c-c00bf279f7b0",
   "metadata": {},
   "outputs": [],
   "source": [
    "# -- download data\n",
    "collector.request_dbf('2022', '1', '25', requisition_export=os.path.join(basefolder, 'REQUISITION_AUTO.csv')).query_file().download_file(sleep_time=6, verbose=True)\n",
    "requisition_lst.append(collector.requisition_number)\n",
    "collector.request_dbf('2022', '26', '52', requisition_export=os.path.join(basefolder, 'REQUISITION_AUTO.csv')).query_file().download_file(sleep_time=6, verbose=True)\n",
    "requisition_lst.append(collector.requisition_number)"
   ]
  },
  {
   "cell_type": "markdown",
   "id": "e89ddac7-a907-4690-b935-5ad68c717cb0",
   "metadata": {},
   "source": [
    "**2023**"
   ]
  },
  {
   "cell_type": "code",
   "execution_count": null,
   "id": "1c27af31-4066-480c-9818-4b2812fe71af",
   "metadata": {},
   "outputs": [],
   "source": [
    "# -- download data\n",
    "collector.request_dbf('2023', '1', '25', requisition_export=os.path.join(basefolder, 'REQUISITION_AUTO.csv')).query_file().download_file(sleep_time=6, verbose=True)\n",
    "requisition_lst.append(collector.requisition_number)\n",
    "collector.request_dbf('2023', '26', '32', requisition_export=os.path.join(basefolder, 'REQUISITION_AUTO.csv')).query_file().download_file(sleep_time=6, verbose=True)\n",
    "requisition_lst.append(collector.requisition_number)"
   ]
  },
  {
   "cell_type": "code",
   "execution_count": null,
   "id": "b5281f8b-104a-4854-a79e-9ec2ac50b0b4",
   "metadata": {},
   "outputs": [],
   "source": [
    "zipfilelst = glob.glob(os.path.join(basefolder, 'DOWNLOAD_AUTO', '*.zip')) "
   ]
  },
  {
   "cell_type": "code",
   "execution_count": 52,
   "id": "11d12b3d-646e-4c2f-82a0-692399e7429d",
   "metadata": {},
   "outputs": [],
   "source": [
    "collector.close_browser()"
   ]
  },
  {
   "cell_type": "code",
   "execution_count": null,
   "id": "e92038dd-2827-4517-b179-ab3dc2009153",
   "metadata": {},
   "outputs": [],
   "source": []
  }
 ],
 "metadata": {
  "kernelspec": {
   "display_name": "Python 3 (ipykernel)",
   "language": "python",
   "name": "python3"
  },
  "language_info": {
   "codemirror_mode": {
    "name": "ipython",
    "version": 3
   },
   "file_extension": ".py",
   "mimetype": "text/x-python",
   "name": "python",
   "nbconvert_exporter": "python",
   "pygments_lexer": "ipython3",
   "version": "3.9.16"
  }
 },
 "nbformat": 4,
 "nbformat_minor": 5
}
