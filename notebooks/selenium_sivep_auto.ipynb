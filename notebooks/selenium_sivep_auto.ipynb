{
 "cells": [
  {
   "cell_type": "markdown",
   "id": "33dc8c08-ad40-4f38-ba3f-57c6fcc60d6a",
   "metadata": {
    "tags": []
   },
   "source": [
    "# **SIVEP-Gripe** pipeline\n",
    "\n",
    "Pilot project for reporting automation.\n",
    "\n",
    "**Case study:** Collect notifications of Severe acute respiratory syndrome (SARS) from the official national registry SIVEP-Gripe using Selenium. \n",
    "Notifications are considered for the city of Fortaleza, Ceará. \n",
    "\n",
    "**Tools**:<br>\n",
    "    - Selenium for automatic download of the DBF data;<br>\n",
    "    - SQLite and SQLAlchemy to store main data;<br>\n",
    "    - Dash for dynamic reporting via dashboards;<br>\n",
    "\n",
    "**Author**: Higor S. Monteiro<br>\n",
    "**Date**: 10 Jul 2023<br>"
   ]
  },
  {
   "cell_type": "markdown",
   "id": "31fb0cc5-43ab-4191-97f3-e0cb80c48e50",
   "metadata": {},
   "source": [
    "## Lib"
   ]
  },
  {
   "cell_type": "code",
   "execution_count": 1,
   "id": "d638d0da-5f8f-447a-b269-51e2cae120c9",
   "metadata": {},
   "outputs": [],
   "source": [
    "import os\n",
    "import csv\n",
    "import time\n",
    "import overpy\n",
    "import osmnx as ox\n",
    "import numpy as np\n",
    "import pandas as pd\n",
    "from tqdm import tqdm\n",
    "from datetime import datetime\n",
    "from collections import defaultdict"
   ]
  },
  {
   "cell_type": "code",
   "execution_count": 10,
   "id": "7315ac92-1555-4ff1-903f-7ce91214d2f5",
   "metadata": {},
   "outputs": [],
   "source": [
    "from bs4 import BeautifulSoup\n",
    "from selenium import webdriver\n",
    "from selenium.webdriver.common.keys import Keys\n",
    "from selenium.webdriver.common.by import By\n",
    "from selenium.webdriver.common.action_chains import ActionChains\n",
    "from selenium.common.exceptions import ElementNotInteractableException\n",
    "from selenium.common.exceptions import StaleElementReferenceException\n",
    "from selenium.webdriver.support.wait import WebDriverWait\n",
    "from selenium.webdriver.support import expected_conditions as EC\n",
    "from selenium.webdriver.support.ui import Select"
   ]
  },
  {
   "cell_type": "code",
   "execution_count": 4,
   "id": "26f4a889-5661-4133-a243-8b9cfcbca77e",
   "metadata": {},
   "outputs": [],
   "source": [
    "from sqlalchemy import create_engine\n",
    "from sqlalchemy import select, insert, update, text\n",
    "from sqlalchemy import Table, MetaData\n",
    "from sqlalchemy import Column, DateTime, Integer, Numeric, String, Sequence, ForeignKey"
   ]
  },
  {
   "cell_type": "code",
   "execution_count": 5,
   "id": "e36cb09e-323b-4535-a341-ac53f14b9da6",
   "metadata": {},
   "outputs": [],
   "source": [
    "#import sys\n",
    "#sys.path.append(os.path.join(\"..\"))"
   ]
  },
  {
   "cell_type": "code",
   "execution_count": 65,
   "id": "5d0d4664-ccf0-436a-a3fa-81232abbb605",
   "metadata": {},
   "outputs": [],
   "source": [
    "#from spellgeo_cevepi.collectors.zipcode_collector import ZipCollector"
   ]
  },
  {
   "cell_type": "markdown",
   "id": "0a712c23-7ba5-401a-b134-54de6067cd1f",
   "metadata": {},
   "source": [
    "## **Object definitions**"
   ]
  },
  {
   "cell_type": "code",
   "execution_count": 5,
   "id": "57d2390c-8c7a-498c-8c61-32d5af5223e5",
   "metadata": {},
   "outputs": [],
   "source": [
    "chrome_options = webdriver.ChromeOptions()\n",
    "prefs = {'download.default_directory' : '/path/to/dir'}\n",
    "chrome_options.add_experimental_option('prefs', prefs)\n",
    "driver = webdriver.Chrome(chrome_options=chrome_options)\n",
    "\n",
    "class SivepPipe:\n",
    "    def __init__(self, certification, download_folder=None, headless=False):\n",
    "        '''\n",
    "        \n",
    "        '''\n",
    "        self._usernm = certification['username']\n",
    "        self._passwd = certification['password']\n",
    "        \n",
    "        self.driver = None\n",
    "        self.url = \"https://sivepgripe.saude.gov.br/sivepgripe/login.html?0\"\n",
    "        self.download_folder = download_folder\n",
    "        self.browser_options = webdriver.ChromeOptions()\n",
    "        if headless:\n",
    "            self.browser_options.add_argument(\"--headless=new\")\n",
    "        self.browser_options.add_experimental_option(\"prefs\", \n",
    "            {\n",
    "                \"download.default_directory\": download_folder,\n",
    "                \"download.prompt_for_download\": False,\n",
    "            })\n",
    "            \n",
    "        \n",
    "    @property\n",
    "    def username(self):\n",
    "        return self._usernm\n",
    "\n",
    "    @username.setter\n",
    "    def username(self, x):\n",
    "        raise Exception('Cannot change username')\n",
    "        \n",
    "    def close_browser(self):\n",
    "        self.driver.close()\n",
    "        self.driver = None\n",
    "    \n",
    "    def main_page(self):\n",
    "        '''\n",
    "        \n",
    "        '''\n",
    "        if self.driver is None:\n",
    "            self.driver = webdriver.Chrome(options=self.browser_options)\n",
    "        # -> locate and clear the login fields\n",
    "        self.driver.get(self.url)\n",
    "        usernm_form =  WebDriverWait(self.driver, 20.0).until(EC.presence_of_element_located((By.ID, 'BoxAreaLogin_campo_email'))).find_element(By.TAG_NAME, 'input')\n",
    "        passwd_form =  WebDriverWait(self.driver, 20.0).until(EC.presence_of_element_located((By.ID, 'BoxAreaLogin_campo_senha'))).find_element(By.TAG_NAME, 'input')\n",
    "        usernm_form.clear()\n",
    "        passwd_form.clear()\n",
    "        # -> send certification\n",
    "        usernm_form.send_keys(self._usernm)\n",
    "        passwd_form.send_keys(self._passwd)\n",
    "        enter_field =  WebDriverWait(self.driver, 20.0).until(EC.presence_of_element_located((By.NAME, 'ENTRAR')))\n",
    "        self.driver.execute_script('arguments[0].click()', enter_field)\n",
    "        \n",
    "        # -> Checker whether there is a dialog box to close before interacting with the page.\n",
    "        try:\n",
    "            dialog_div = WebDriverWait(self.driver, 20.0).until(EC.presence_of_element_located(( By.XPATH, './/div[@class = \"ui-dialog-buttonset\"]' )))\n",
    "            dialog_button = dialog_div.find_element(By.TAG_NAME, 'button')\n",
    "            self.driver.execute_script('arguments[0].click()', dialog_button)\n",
    "        except:\n",
    "            pass\n",
    "        \n",
    "    def homepage(self):\n",
    "        '''\n",
    "            From any page in the website, return to the homepage.\n",
    "        '''\n",
    "        elements = WebDriverWait(self.driver, 20.0).until(EC.presence_of_element_located(( By.XPATH, './/div[@id = \"BoxConteudoPrincipal_migalha\"]' ))).find_elements(By.TAG_NAME, 'a')\n",
    "        for elem in elements:\n",
    "            if 'principal' in elem.get_attribute('text').lower():\n",
    "                self.driver.execute_script('arguments[0].click()', elem)\n",
    "                break\n",
    "                \n",
    "        # -> Checker whether there is a dialog box to close before interacting with the page.\n",
    "        try:\n",
    "            dialog_div = WebDriverWait(self.driver, 20.0).until(EC.presence_of_element_located(( By.XPATH, './/div[@class = \"ui-dialog-buttonset\"]' )))\n",
    "            dialog_button = dialog_div.find_element(By.TAG_NAME, 'button')\n",
    "            self.driver.execute_script('arguments[0].click()', dialog_button)\n",
    "        except:\n",
    "            pass\n",
    "    \n",
    "    def locate_page(self):\n",
    "        '''\n",
    "            Return the absolute path of the current page from the homepage.\n",
    "        '''\n",
    "        elements = WebDriverWait(self.driver, 20.0).until(EC.presence_of_element_located(( By.XPATH, './/div[@id = \"BoxConteudoPrincipal_migalha\"]' ))).find_elements(By.TAG_NAME, 'a')\n",
    "        page_path = '\\\\'.join([ a.get_attribute('text').strip().replace('\\n','').replace('\\t','') for a in elements ])\n",
    "        print(page_path)\n",
    "        \n",
    "    def request_dbf(self, epi_year, epi_week_first, epi_week_last, patient_data=True):\n",
    "        '''\n",
    "            Request the DBF file for the severe acute respiratory syndrome notifications.\n",
    "        '''\n",
    "        # --> From main page, access the page for requesting data\n",
    "        a = WebDriverWait(self.driver, 20.0).until(EC.presence_of_all_elements_located((By.XPATH, './/a[@alt = \"REGISTROS INDIVIDUAIS\"]')))\n",
    "        self.driver.execute_script('arguments[0].click()', a[1]) # The second is the one for the new database.\n",
    "        \n",
    "        selectElem = Select(WebDriverWait(self.driver, 20.0).until(EC.presence_of_element_located((By.XPATH, './/select[@name = \"tipoFicha\"]'))))\n",
    "        selectElem.select_by_visible_text(\"SRAG Hospitalizado\")\n",
    "    \n",
    "        # --> select radio box for epi year\n",
    "        radio_epi = WebDriverWait(self.driver, 20.0).until(EC.presence_of_element_located((By.XPATH, './/input[@name = \"periodo:anoEpidemiologico\"]')))\n",
    "        self.driver.execute_script('arguments[0].click()', radio_epi)\n",
    "        \n",
    "        # --> Checkbox for patient's data\n",
    "        if patient_data:\n",
    "            dados_pac_check = WebDriverWait(self.driver, 20.0).until(EC.presence_of_element_located((By.XPATH, './/input[@name = \"chkExportarDadosPaciente\"]')))\n",
    "            self.driver.execute_script('arguments[0].click()', dados_pac_check)\n",
    "        \n",
    "        # --> Fill up information (test for staleness)\n",
    "        input_ano = WebDriverWait(self.driver, 20.0).until(EC.presence_of_element_located((By.XPATH, './/input[@name = \"periodo:anoAnoEpidemiologico\"]')))\n",
    "        # --> Wait for staleness of forms (triggered by radio_epi)\n",
    "        while True:\n",
    "            try:\n",
    "                dummy = input_ano.get_attribute(\"text\")\n",
    "            except StaleElementReferenceException:\n",
    "                break\n",
    "                \n",
    "        input_ano = WebDriverWait(self.driver, 20.0).until(EC.presence_of_element_located((By.XPATH, './/input[@name = \"periodo:anoAnoEpidemiologico\"]')))\n",
    "        input_inicial = WebDriverWait(self.driver, 20.0).until(EC.presence_of_element_located((By.XPATH, './/input[@name = \"periodo:semanaInicial\"]')))\n",
    "        input_final = WebDriverWait(self.driver, 20.0).until(EC.presence_of_element_located((By.XPATH, './/input[@name = \"periodo:semanaFinal\"]')))\n",
    "        self.driver.execute_script('arguments[0].value=arguments[1];', input_ano, epi_year)\n",
    "        self.driver.execute_script('arguments[0].value=arguments[1];', input_inicial, epi_week_first)\n",
    "        self.driver.execute_script('arguments[0].value=arguments[1];', input_final, epi_week_last)\n",
    "        \n",
    "        # --> Request data\n",
    "        gerar_dbf = WebDriverWait(self.driver, 20.0).until(EC.presence_of_element_located((By.XPATH, './/input[@name = \"gerarDbf\"]')))\n",
    "        self.driver.execute_script('arguments[0].click()', gerar_dbf)\n",
    "        \n",
    "        msg_success = WebDriverWait(self.driver, 60.0).until(EC.presence_of_element_located((By.XPATH, './/span[@class = \"msgSUCCESS\"]')))\n",
    "        msgtext = BeautifulSoup(msg_success.get_attribute('outerHTML'), 'html.parser').get_text()\n",
    "        requisition_number = msgtext.split(\":\")[1].strip().replace(\".\",\"\")\n",
    "        return requisition_number\n",
    "        \n",
    "    def query_file(self, requisicao=None):\n",
    "        '''\n",
    "        \n",
    "        '''\n",
    "        # --> From main page, access the page to query the data\n",
    "        a = WebDriverWait(self.driver, 20.0).until(EC.presence_of_element_located((By.XPATH, './/a[@alt = \"CONSULTAR EXPORTAÇÕES DBF\"]')))\n",
    "        self.driver.execute_script('arguments[0].click()', a) # The second is the one for the new database.\n",
    "        \n",
    "        # --> Extract the table info\n",
    "        tableElem = WebDriverWait(self.driver, 20.0).until(EC.presence_of_element_located(( By.XPATH, './/table[@class = \"TabelaResultado\"]' )))\n",
    "        tableHtml = BeautifulSoup(tableElem.get_attribute('outerHTML'), 'html.parser')\n",
    "        \n",
    "        records = []\n",
    "        head, trows = tableHtml.find('thead'), tableHtml.find('tbody').find_all('tr')\n",
    "        rename_cols = {hcell.attrs['id']: hcell.text.strip() for hcell in head.find_all('th')}\n",
    "        for row in trows:\n",
    "            record = { cell.attrs['headers'][0]: cell.text.replace(\"\\n\", \"\") for cell in row.find_all('td')  }\n",
    "            records.append(record)\n",
    "        tb_rec = pd.DataFrame(records).rename(rename_cols, axis=1)\n",
    "        return tb_rec\n",
    "    \n",
    "    def download_file(self, req_number, tb_consulta):\n",
    "        '''\n",
    "        \n",
    "        '''\n",
    "        subsol = tb_consulta[tb_consulta[\"Número de Solicitação\"]==req_number]\n",
    "        if subsol.shape[0]==1 and subsol['Link'].iat[0]=='Download':\n",
    "            link_dbf = WebDriverWait(self.driver, 20.0).until(EC.presence_of_all_elements_located((By.XPATH, './/a[@class = \"link\"]')))\n",
    "            self.driver.execute_script('arguments[0].click()', link_dbf[0])\n",
    "        "
   ]
  },
  {
   "cell_type": "code",
   "execution_count": null,
   "id": "d139e631-cbee-4b9d-9a11-deb90f71b74c",
   "metadata": {},
   "outputs": [],
   "source": []
  },
  {
   "cell_type": "markdown",
   "id": "5533a020-609d-438a-a751-b63767c6611c",
   "metadata": {},
   "source": [
    "## Config"
   ]
  },
  {
   "cell_type": "code",
   "execution_count": 6,
   "id": "890344a5-d8cd-42af-8934-c9636d94f50b",
   "metadata": {},
   "outputs": [],
   "source": [
    "basepath = os.path.join(os.environ[\"HOMEPATH\"], \"Documents\", \"data\")\n",
    "download_folder = os.path.join(basepath, \"SIVEP-Gripe\")"
   ]
  },
  {
   "cell_type": "code",
   "execution_count": 42,
   "id": "d13f2e98-ad9f-4ecb-98da-157dec4f3d0b",
   "metadata": {},
   "outputs": [],
   "source": [
    "download_folder\n",
    "download_folder = r'C:\\Users\\higor.monteiro\\Documents\\data\\SIVEP-Gripe'"
   ]
  },
  {
   "cell_type": "code",
   "execution_count": 43,
   "id": "96726d04-4d1c-476e-a894-87a64ec014e6",
   "metadata": {},
   "outputs": [],
   "source": [
    "certification = {\n",
    "    \"username\": \"millenakosloski@hotmail.com\",\n",
    "    \"password\": \"Pitoco@1307\"\n",
    "}"
   ]
  },
  {
   "cell_type": "code",
   "execution_count": 44,
   "id": "d5f1d527-5fa4-438c-b550-76215695ed05",
   "metadata": {},
   "outputs": [],
   "source": [
    "args = {\n",
    "    'certification': certification, \n",
    "    'ano_epi': '2021', 'semana_pri': '1', 'semana_ulti': '5',\n",
    "    'download_folder': download_folder,\n",
    "}\n",
    "def download_sivep(args):\n",
    "    certification=args['certification']\n",
    "    download_folder = args['download_folder']\n",
    "    epi_year, epi_week_first, epi_week_last = args['ano_epi'], args['semana_pri'], args['semana_ulti'] \n",
    "    \n",
    "    sivep_browser = SivepPipe(certification=certification, download_folder=download_folder)\n",
    "    sivep_browser.main_page()\n",
    "    #time.sleep(0.5)\n",
    "    req = sivep_browser.request_dbf('2021', '1', '5')\n",
    "    print(f'No. Requisição: {req}')\n",
    "    #time.sleep(0.5)\n",
    "    sivep_browser.homepage()\n",
    "    #time.sleep(0.5)\n",
    "    consulta_tb = sivep_browser.query_file()\n",
    "    print(consulta_tb)\n",
    "    sivep_browser.download_file(req, consulta_tb)\n",
    "    time.sleep(4)"
   ]
  },
  {
   "cell_type": "code",
   "execution_count": 45,
   "id": "fd7d80ca-9568-45ff-be71-2e31631b9f87",
   "metadata": {},
   "outputs": [
    {
     "name": "stdout",
     "output_type": "stream",
     "text": [
      "No. Requisição: 1969677\n",
      "  Número de Solicitação Quantidade de Registros                   Status  \\\n",
      "0               1632382                       0         Em Processamento   \n",
      "1               1632384                       0         Em Processamento   \n",
      "2               1633119                       0         Em Processamento   \n",
      "3               1888290                       0         Em Processamento   \n",
      "4               1969677                    4121  Processamento Concluído   \n",
      "\n",
      "       Link  \n",
      "0            \n",
      "1            \n",
      "2            \n",
      "3            \n",
      "4  Download  \n"
     ]
    }
   ],
   "source": [
    "download_sivep(args)"
   ]
  },
  {
   "cell_type": "code",
   "execution_count": 11,
   "id": "08baa74e-4235-4eeb-b7ae-d1e450911906",
   "metadata": {},
   "outputs": [],
   "source": [
    "args = {\n",
    "    'certification': certification, \n",
    "    'ano_epi': '2021', 'semana_pri': '1', 'semana_ulti': '5',\n",
    "    'download_folder': download_folder,\n",
    "}\n",
    "\n",
    "certification=args['certification']\n",
    "download_folder = args['download_folder']\n",
    "epi_year, epi_week_first, epi_week_last = args['ano_epi'], args['semana_pri'], args['semana_ulti'] "
   ]
  },
  {
   "cell_type": "code",
   "execution_count": 23,
   "id": "791f4bcb-552b-44b3-9866-670988be1ed6",
   "metadata": {},
   "outputs": [],
   "source": [
    "sivep_browser = SivepPipe(certification=certification, download_folder=download_folder, headless=True)"
   ]
  },
  {
   "cell_type": "code",
   "execution_count": null,
   "id": "5347b45f-4872-4b93-a3ad-db4dabac9527",
   "metadata": {},
   "outputs": [],
   "source": []
  },
  {
   "cell_type": "code",
   "execution_count": 24,
   "id": "23728bed-5e63-4e6e-9f38-0631532946f1",
   "metadata": {},
   "outputs": [],
   "source": [
    "sivep_browser.main_page()"
   ]
  },
  {
   "cell_type": "code",
   "execution_count": 25,
   "id": "faaa9433-595a-4600-b031-e4bff2bcdd54",
   "metadata": {},
   "outputs": [],
   "source": [
    "req = sivep_browser.request_dbf('2021', '1', '5')"
   ]
  },
  {
   "cell_type": "code",
   "execution_count": 26,
   "id": "4cea0a67-726f-45b8-b095-0b7797dd3bfd",
   "metadata": {},
   "outputs": [
    {
     "data": {
      "text/plain": [
       "'1969677'"
      ]
     },
     "execution_count": 26,
     "metadata": {},
     "output_type": "execute_result"
    }
   ],
   "source": [
    "req"
   ]
  },
  {
   "cell_type": "code",
   "execution_count": 27,
   "id": "5b088e14-36d5-4760-88cd-768ad18a3834",
   "metadata": {},
   "outputs": [
    {
     "name": "stdout",
     "output_type": "stream",
     "text": [
      "Pagina Principal\\Exportação\\Registros Individuais\n"
     ]
    }
   ],
   "source": [
    "sivep_browser.locate_page()"
   ]
  },
  {
   "cell_type": "code",
   "execution_count": 28,
   "id": "4449d8d1-bd57-48f2-88ef-c719f535cbc0",
   "metadata": {},
   "outputs": [],
   "source": [
    "sivep_browser.homepage()"
   ]
  },
  {
   "cell_type": "code",
   "execution_count": 29,
   "id": "653f0daa-29ac-47e1-ab9e-b5c291d9f199",
   "metadata": {},
   "outputs": [],
   "source": [
    "tb = sivep_browser.query_file()"
   ]
  },
  {
   "cell_type": "code",
   "execution_count": 31,
   "id": "f196b6c7-19c3-450a-aeb6-37081dd6a308",
   "metadata": {},
   "outputs": [
    {
     "data": {
      "text/html": [
       "<div>\n",
       "<style scoped>\n",
       "    .dataframe tbody tr th:only-of-type {\n",
       "        vertical-align: middle;\n",
       "    }\n",
       "\n",
       "    .dataframe tbody tr th {\n",
       "        vertical-align: top;\n",
       "    }\n",
       "\n",
       "    .dataframe thead th {\n",
       "        text-align: right;\n",
       "    }\n",
       "</style>\n",
       "<table border=\"1\" class=\"dataframe\">\n",
       "  <thead>\n",
       "    <tr style=\"text-align: right;\">\n",
       "      <th></th>\n",
       "      <th>Número de Solicitação</th>\n",
       "      <th>Quantidade de Registros</th>\n",
       "      <th>Status</th>\n",
       "      <th>Link</th>\n",
       "    </tr>\n",
       "  </thead>\n",
       "  <tbody>\n",
       "    <tr>\n",
       "      <th>0</th>\n",
       "      <td>1632382</td>\n",
       "      <td>0</td>\n",
       "      <td>Em Processamento</td>\n",
       "      <td></td>\n",
       "    </tr>\n",
       "    <tr>\n",
       "      <th>1</th>\n",
       "      <td>1632384</td>\n",
       "      <td>0</td>\n",
       "      <td>Em Processamento</td>\n",
       "      <td></td>\n",
       "    </tr>\n",
       "    <tr>\n",
       "      <th>2</th>\n",
       "      <td>1633119</td>\n",
       "      <td>0</td>\n",
       "      <td>Em Processamento</td>\n",
       "      <td></td>\n",
       "    </tr>\n",
       "    <tr>\n",
       "      <th>3</th>\n",
       "      <td>1888290</td>\n",
       "      <td>0</td>\n",
       "      <td>Em Processamento</td>\n",
       "      <td></td>\n",
       "    </tr>\n",
       "    <tr>\n",
       "      <th>4</th>\n",
       "      <td>1969677</td>\n",
       "      <td>4121</td>\n",
       "      <td>Processamento Concluído</td>\n",
       "      <td>Download</td>\n",
       "    </tr>\n",
       "  </tbody>\n",
       "</table>\n",
       "</div>"
      ],
      "text/plain": [
       "  Número de Solicitação Quantidade de Registros                   Status  \\\n",
       "0               1632382                       0         Em Processamento   \n",
       "1               1632384                       0         Em Processamento   \n",
       "2               1633119                       0         Em Processamento   \n",
       "3               1888290                       0         Em Processamento   \n",
       "4               1969677                    4121  Processamento Concluído   \n",
       "\n",
       "       Link  \n",
       "0            \n",
       "1            \n",
       "2            \n",
       "3            \n",
       "4  Download  "
      ]
     },
     "execution_count": 31,
     "metadata": {},
     "output_type": "execute_result"
    }
   ],
   "source": [
    "tb"
   ]
  },
  {
   "cell_type": "code",
   "execution_count": 32,
   "id": "ef488b63-9933-4c36-85aa-6e8afe22f66e",
   "metadata": {},
   "outputs": [],
   "source": [
    "sivep_browser.download_file(req, tb)"
   ]
  },
  {
   "cell_type": "code",
   "execution_count": null,
   "id": "33232569-b275-48dd-b355-d8acca5448f6",
   "metadata": {},
   "outputs": [],
   "source": []
  },
  {
   "cell_type": "code",
   "execution_count": 33,
   "id": "44fde658-ac38-4202-b88f-fa605a9677ab",
   "metadata": {},
   "outputs": [],
   "source": [
    "sivep_browser.close_browser()"
   ]
  },
  {
   "cell_type": "code",
   "execution_count": 34,
   "id": "8d62c5b0-928f-4352-8d6f-a1c778afbb58",
   "metadata": {},
   "outputs": [],
   "source": [
    "driver = sivep_browser.driver"
   ]
  },
  {
   "cell_type": "code",
   "execution_count": 35,
   "id": "efb2aa3b-0ad4-4e92-a6ad-50d1352d31d5",
   "metadata": {},
   "outputs": [],
   "source": [
    "driver"
   ]
  },
  {
   "cell_type": "markdown",
   "id": "fc1d2916-ec33-41d7-a4f3-4d5ce79338a5",
   "metadata": {
    "tags": []
   },
   "source": [
    "## Selenium Scraping"
   ]
  },
  {
   "cell_type": "code",
   "execution_count": 56,
   "id": "9ae3afe4-a936-496d-8616-f1810071ecdb",
   "metadata": {},
   "outputs": [
    {
     "data": {
      "text/plain": [
       "{'headers': ['numeroSolicitacao']}"
      ]
     },
     "execution_count": 56,
     "metadata": {},
     "output_type": "execute_result"
    }
   ],
   "source": [
    "cells[0].attrs"
   ]
  },
  {
   "cell_type": "code",
   "execution_count": 8,
   "id": "03b98045-7669-4be7-8d4d-acbd759ffe81",
   "metadata": {},
   "outputs": [],
   "source": [
    "url = \"https://sivepgripe.saude.gov.br/sivepgripe/login.html?0\""
   ]
  },
  {
   "cell_type": "code",
   "execution_count": 9,
   "id": "16940e57-af19-49aa-bd67-b02f271bc047",
   "metadata": {},
   "outputs": [],
   "source": [
    "options = webdriver.ChromeOptions()\n",
    "options.add_experimental_option(\"prefs\", {\n",
    "  \"download.default_directory\": r\"C:\\Users\\higor.monteiro\\Documents\\data\\SIVEP-Gripe\",\n",
    "  \"download.prompt_for_download\": False,\n",
    "})\n",
    "driver = webdriver.Chrome(options=options)"
   ]
  },
  {
   "cell_type": "code",
   "execution_count": 10,
   "id": "36c4dcf6-fb45-4741-b527-789530eef5da",
   "metadata": {},
   "outputs": [],
   "source": [
    "driver.get(url)"
   ]
  },
  {
   "cell_type": "code",
   "execution_count": 11,
   "id": "51454c58-bf49-4c54-80a0-fb1883539da3",
   "metadata": {},
   "outputs": [],
   "source": [
    "usernm_field =  WebDriverWait(driver, 20.0).until(EC.presence_of_element_located((By.ID, 'BoxAreaLogin_campo_email')))\n",
    "passwd_field =  WebDriverWait(driver, 20.0).until(EC.presence_of_element_located((By.ID, 'BoxAreaLogin_campo_senha')))\n",
    "usernm_form = usernm_field.find_element(By.TAG_NAME, 'input')\n",
    "passwd_form = passwd_field.find_element(By.TAG_NAME, 'input')\n",
    "usernm_form.send_keys(certification[\"username\"])\n",
    "passwd_form.send_keys(certification[\"password\"])"
   ]
  },
  {
   "cell_type": "code",
   "execution_count": 164,
   "id": "756aaa36-0f6d-454a-87ff-49cbe8fa5a18",
   "metadata": {},
   "outputs": [],
   "source": [
    "#usernm_form.clear()\n",
    "#passwd_form.clear()"
   ]
  },
  {
   "cell_type": "code",
   "execution_count": 12,
   "id": "b808435a-841a-4127-aced-1f7b371edf79",
   "metadata": {},
   "outputs": [],
   "source": [
    "enter_field =  WebDriverWait(driver, 20.0).until(EC.presence_of_element_located((By.NAME, 'ENTRAR')))\n",
    "driver.execute_script('arguments[0].click()', enter_field)\n",
    "#enter_field.click()"
   ]
  },
  {
   "cell_type": "code",
   "execution_count": 15,
   "id": "99331c59-e80b-4b73-b308-292df36541a9",
   "metadata": {},
   "outputs": [],
   "source": [
    "okbt =  WebDriverWait(driver, 20.0).until(EC.presence_of_element_located((By.CLASS_NAME, 'ui-dialog-buttonset')))\n",
    "okbt2 = okbt.find_element(By.TAG_NAME, 'button')\n",
    "driver.execute_script('arguments[0].click()', okbt2)"
   ]
  },
  {
   "cell_type": "code",
   "execution_count": 16,
   "id": "7199eaf8-17e6-4a9f-9a7c-b9fd237a31ff",
   "metadata": {},
   "outputs": [],
   "source": [
    "a = WebDriverWait(driver, 20.0).until(EC.presence_of_all_elements_located((By.XPATH, './/a[@alt = \"REGISTROS INDIVIDUAIS\"]')))\n",
    "driver.execute_script('arguments[0].click()', a[1])"
   ]
  },
  {
   "cell_type": "code",
   "execution_count": 14,
   "id": "4f86d7a9-ec57-48e9-9607-96214dc131c6",
   "metadata": {},
   "outputs": [
    {
     "data": {
      "text/plain": [
       "[<selenium.webdriver.remote.webelement.WebElement (session=\"798a11b188cbac1c2324e644b73af466\", element=\"1ABF318307A847D45B50209CEAE0E512_element_51\")>,\n",
       " <selenium.webdriver.remote.webelement.WebElement (session=\"798a11b188cbac1c2324e644b73af466\", element=\"1ABF318307A847D45B50209CEAE0E512_element_52\")>]"
      ]
     },
     "execution_count": 14,
     "metadata": {},
     "output_type": "execute_result"
    }
   ],
   "source": [
    "a"
   ]
  },
  {
   "cell_type": "code",
   "execution_count": 17,
   "id": "d139b7f3-52ba-4001-9440-d14dbd21066c",
   "metadata": {},
   "outputs": [],
   "source": [
    "select = WebDriverWait(driver, 20.0).until(EC.presence_of_element_located((By.XPATH, './/select[@name = \"tipoFicha\"]')))"
   ]
  },
  {
   "cell_type": "code",
   "execution_count": 18,
   "id": "6a5161c0-cb4d-496e-864f-04bf69db05c0",
   "metadata": {},
   "outputs": [],
   "source": [
    "selectElem = Select(select)"
   ]
  },
  {
   "cell_type": "code",
   "execution_count": 19,
   "id": "cf9c90ac-7863-4248-9258-caf419bad006",
   "metadata": {},
   "outputs": [],
   "source": [
    "selectElem.select_by_visible_text(\"SRAG Hospitalizado\")"
   ]
  },
  {
   "cell_type": "code",
   "execution_count": 20,
   "id": "92aef1ce-cd9e-476c-9ee9-955cde4d5fa8",
   "metadata": {},
   "outputs": [],
   "source": [
    "radio_epi = WebDriverWait(driver, 20.0).until(EC.presence_of_element_located((By.XPATH, './/input[@name = \"periodo:anoEpidemiologico\"]')))\n",
    "driver.execute_script('arguments[0].click()', radio_epi)"
   ]
  },
  {
   "cell_type": "code",
   "execution_count": 21,
   "id": "81296b4e-5bba-4fae-852b-98c1cc65d695",
   "metadata": {},
   "outputs": [],
   "source": [
    "input_ano = WebDriverWait(driver, 20.0).until(EC.presence_of_element_located((By.XPATH, './/input[@name = \"periodo:anoAnoEpidemiologico\"]')))\n",
    "input_ano.send_keys('2023')\n",
    "\n",
    "input_inicial = WebDriverWait(driver, 20.0).until(EC.presence_of_element_located((By.XPATH, './/input[@name = \"periodo:semanaInicial\"]')))\n",
    "input_inicial.send_keys('1')\n",
    "\n",
    "input_final = WebDriverWait(driver, 20.0).until(EC.presence_of_element_located((By.XPATH, './/input[@name = \"periodo:semanaFinal\"]')))\n",
    "input_final.send_keys('28')"
   ]
  },
  {
   "cell_type": "code",
   "execution_count": 22,
   "id": "2f022d2c-cf1e-4e13-8dba-36cdddc04ae7",
   "metadata": {},
   "outputs": [],
   "source": [
    "dados_pac_check = WebDriverWait(driver, 20.0).until(EC.presence_of_element_located((By.XPATH, './/input[@name = \"chkExportarDadosPaciente\"]')))\n",
    "driver.execute_script('arguments[0].click()', dados_pac_check)"
   ]
  },
  {
   "cell_type": "code",
   "execution_count": 23,
   "id": "c22c173d-af85-4120-9fc2-0e6ae0385133",
   "metadata": {},
   "outputs": [],
   "source": [
    "gerar_dbf = WebDriverWait(driver, 20.0).until(EC.presence_of_element_located((By.XPATH, './/input[@name = \"gerarDbf\"]')))\n",
    "driver.execute_script('arguments[0].click()', gerar_dbf)"
   ]
  },
  {
   "cell_type": "code",
   "execution_count": 128,
   "id": "4f4c3191-cbc8-44bf-b50d-a64d751b2e80",
   "metadata": {},
   "outputs": [],
   "source": [
    "#a[1].get_attribute('outerHTML')"
   ]
  },
  {
   "cell_type": "code",
   "execution_count": 24,
   "id": "53c544a1-9be5-44af-8987-d85e087d6424",
   "metadata": {},
   "outputs": [],
   "source": [
    "a = WebDriverWait(driver, 20.0).until(EC.presence_of_all_elements_located((By.XPATH, './/a[@alt = \"CONSULTAR EXPORTAÇÕES DBF\"]')))\n",
    "driver.execute_script('arguments[0].click()', a[0])"
   ]
  },
  {
   "cell_type": "code",
   "execution_count": 55,
   "id": "92e2eb1f-a393-42b0-a7ff-9c6ac8981657",
   "metadata": {},
   "outputs": [
    {
     "ename": "TimeoutException",
     "evalue": "Message: \n",
     "output_type": "error",
     "traceback": [
      "\u001b[1;31m---------------------------------------------------------------------------\u001b[0m",
      "\u001b[1;31mTimeoutException\u001b[0m                          Traceback (most recent call last)",
      "Input \u001b[1;32mIn [55]\u001b[0m, in \u001b[0;36m<cell line: 1>\u001b[1;34m()\u001b[0m\n\u001b[1;32m----> 1\u001b[0m link_dbf \u001b[38;5;241m=\u001b[39m \u001b[43mWebDriverWait\u001b[49m\u001b[43m(\u001b[49m\u001b[43mdriver\u001b[49m\u001b[43m,\u001b[49m\u001b[43m \u001b[49m\u001b[38;5;241;43m10.0\u001b[39;49m\u001b[43m)\u001b[49m\u001b[38;5;241;43m.\u001b[39;49m\u001b[43muntil\u001b[49m\u001b[43m(\u001b[49m\u001b[43mEC\u001b[49m\u001b[38;5;241;43m.\u001b[39;49m\u001b[43mpresence_of_all_elements_located\u001b[49m\u001b[43m(\u001b[49m\u001b[43m(\u001b[49m\u001b[43mBy\u001b[49m\u001b[38;5;241;43m.\u001b[39;49m\u001b[43mXPATH\u001b[49m\u001b[43m,\u001b[49m\u001b[43m \u001b[49m\u001b[38;5;124;43m'\u001b[39;49m\u001b[38;5;124;43m.//a[@class = \u001b[39;49m\u001b[38;5;124;43m\"\u001b[39;49m\u001b[38;5;124;43mlink\u001b[39;49m\u001b[38;5;124;43m\"\u001b[39;49m\u001b[38;5;124;43m]\u001b[39;49m\u001b[38;5;124;43m'\u001b[39;49m\u001b[43m)\u001b[49m\u001b[43m)\u001b[49m\u001b[43m)\u001b[49m\n",
      "File \u001b[1;32m~\\Miniconda3\\envs\\cevepi\\lib\\site-packages\\selenium\\webdriver\\support\\wait.py:95\u001b[0m, in \u001b[0;36mWebDriverWait.until\u001b[1;34m(self, method, message)\u001b[0m\n\u001b[0;32m     93\u001b[0m     \u001b[38;5;28;01mif\u001b[39;00m time\u001b[38;5;241m.\u001b[39mmonotonic() \u001b[38;5;241m>\u001b[39m end_time:\n\u001b[0;32m     94\u001b[0m         \u001b[38;5;28;01mbreak\u001b[39;00m\n\u001b[1;32m---> 95\u001b[0m \u001b[38;5;28;01mraise\u001b[39;00m TimeoutException(message, screen, stacktrace)\n",
      "\u001b[1;31mTimeoutException\u001b[0m: Message: \n"
     ]
    }
   ],
   "source": [
    "link_dbf = WebDriverWait(driver, 10.0).until(EC.presence_of_all_elements_located((By.XPATH, './/a[@class = \"link\"]')))\n",
    "#driver.execute_script('arguments[0].click()', link_dbf[0])"
   ]
  },
  {
   "cell_type": "code",
   "execution_count": 135,
   "id": "cea3d8b3-0752-4d1b-839e-950629b34178",
   "metadata": {},
   "outputs": [],
   "source": [
    "driver.execute_script('arguments[0].click()', link_dbf[0])"
   ]
  },
  {
   "cell_type": "code",
   "execution_count": 56,
   "id": "e585ca14-cfab-459f-b8ea-a1008e22a195",
   "metadata": {},
   "outputs": [],
   "source": [
    "driver.refresh()"
   ]
  },
  {
   "cell_type": "code",
   "execution_count": 57,
   "id": "71584cdd-fb37-4f82-88ce-cf52cb45826d",
   "metadata": {},
   "outputs": [],
   "source": [
    "driver.close()"
   ]
  },
  {
   "cell_type": "code",
   "execution_count": null,
   "id": "b7fd36db-cc05-410c-ad1d-8db503475e02",
   "metadata": {},
   "outputs": [],
   "source": []
  },
  {
   "cell_type": "code",
   "execution_count": null,
   "id": "8b35fe87-b636-444d-991a-ca809a10488f",
   "metadata": {},
   "outputs": [],
   "source": []
  },
  {
   "cell_type": "code",
   "execution_count": 1,
   "id": "f8e5154b-728d-455e-bb5f-b1c0aab12f8b",
   "metadata": {},
   "outputs": [],
   "source": [
    "import os\n",
    "import sys\n",
    "sys.path.append(\"..\")\n",
    "sys.path.append(os.path.join(\"..\", \"..\", \"linkage-saude\"))"
   ]
  },
  {
   "cell_type": "code",
   "execution_count": 2,
   "id": "f8114618-08ef-44c2-a3a8-c5365dab5871",
   "metadata": {},
   "outputs": [
    {
     "name": "stdout",
     "output_type": "stream",
     "text": [
      "PyTables is not installed. No support for HDF output.\n"
     ]
    }
   ],
   "source": [
    "from epimonitor.collector import SivepPipe"
   ]
  },
  {
   "cell_type": "code",
   "execution_count": null,
   "id": "f9628d50-8184-4dcc-9210-5039f074d4a0",
   "metadata": {},
   "outputs": [],
   "source": []
  },
  {
   "cell_type": "code",
   "execution_count": 3,
   "id": "06d1dd56-eb61-4964-ba6b-56b91f128778",
   "metadata": {},
   "outputs": [],
   "source": [
    "download_folder = r'C:\\Users\\higor.monteiro\\Documents\\data\\SIVEP-Gripe'\n",
    "certification = {\n",
    "    \"username\": \"millenakosloski@hotmail.com\",\n",
    "    \"password\": \"Pitoco@1307\"\n",
    "}\n",
    "\n",
    "args = {\n",
    "    'certification': certification, \n",
    "    'ano_epi': '2021', 'semana_pri': '1', 'semana_ulti': '5',\n",
    "    'download_folder': download_folder,\n",
    "}\n",
    "epi_year, epi_week_first, epi_week_last = args['ano_epi'], args['semana_pri'], args['semana_ulti'] "
   ]
  },
  {
   "cell_type": "code",
   "execution_count": 8,
   "id": "77c8a6f4-cb28-46a2-980d-9fe29e7c4898",
   "metadata": {},
   "outputs": [],
   "source": [
    "collector = SivepPipe(certification, download_folder=download_folder)"
   ]
  },
  {
   "cell_type": "code",
   "execution_count": 9,
   "id": "c3597443-1bc9-4513-8e9a-0521e54cf3b3",
   "metadata": {},
   "outputs": [
    {
     "data": {
      "text/plain": [
       "<epimonitor.collector.sivep_collector.SivepPipe at 0x15a348ae2e0>"
      ]
     },
     "execution_count": 9,
     "metadata": {},
     "output_type": "execute_result"
    }
   ],
   "source": [
    "collector.login()"
   ]
  },
  {
   "cell_type": "code",
   "execution_count": 10,
   "id": "e1a8653c-1bf3-4bb6-9ea0-aefaa58e5920",
   "metadata": {},
   "outputs": [
    {
     "name": "stdout",
     "output_type": "stream",
     "text": [
      "waiting for file from requisition 1970487, refresh 1 ... downloaded.\n"
     ]
    },
    {
     "data": {
      "text/plain": [
       "<epimonitor.collector.sivep_collector.SivepPipe at 0x15a348ae2e0>"
      ]
     },
     "execution_count": 10,
     "metadata": {},
     "output_type": "execute_result"
    }
   ],
   "source": [
    "collector.request_dbf('2021', '1', '3', requisition_export='tempfile.csv').query_file().download_file(verbose=True)"
   ]
  },
  {
   "cell_type": "code",
   "execution_count": 6,
   "id": "d5d83006-79ec-4da7-a2b1-10f7a44ca9ae",
   "metadata": {},
   "outputs": [
    {
     "data": {
      "text/plain": [
       "<epimonitor.collector.sivep_collector.SivepPipe at 0x1d89a5bdf10>"
      ]
     },
     "execution_count": 6,
     "metadata": {},
     "output_type": "execute_result"
    }
   ],
   "source": [
    "collector.homepage().request_dbf('2021', '3', '4', requisition_export='tempfile.csv').query_file().download_file()"
   ]
  },
  {
   "cell_type": "code",
   "execution_count": 11,
   "id": "799ed9ba-179d-40a5-9d12-e1b147c40116",
   "metadata": {},
   "outputs": [],
   "source": [
    "collector.close_browser()"
   ]
  },
  {
   "cell_type": "code",
   "execution_count": 10,
   "id": "2b515f6f-4c5e-4e0f-afbf-ad4f47c3f325",
   "metadata": {},
   "outputs": [
    {
     "data": {
      "text/plain": [
       "'1970487'"
      ]
     },
     "execution_count": 10,
     "metadata": {},
     "output_type": "execute_result"
    }
   ],
   "source": [
    "collector.requisition_number"
   ]
  },
  {
   "cell_type": "code",
   "execution_count": null,
   "id": "4188996c-d873-4944-b861-9f2ba0c88764",
   "metadata": {},
   "outputs": [],
   "source": []
  },
  {
   "cell_type": "code",
   "execution_count": null,
   "id": "931e4e29-f999-4b43-8900-706378587e90",
   "metadata": {},
   "outputs": [],
   "source": []
  },
  {
   "cell_type": "code",
   "execution_count": null,
   "id": "31a5090e-0283-4212-8f8e-ae6dbc04bbba",
   "metadata": {},
   "outputs": [],
   "source": []
  },
  {
   "cell_type": "code",
   "execution_count": null,
   "id": "ef7637ae-c512-4231-a427-4feaa9644259",
   "metadata": {},
   "outputs": [],
   "source": []
  }
 ],
 "metadata": {
  "kernelspec": {
   "display_name": "Python 3 (ipykernel)",
   "language": "python",
   "name": "python3"
  },
  "language_info": {
   "codemirror_mode": {
    "name": "ipython",
    "version": 3
   },
   "file_extension": ".py",
   "mimetype": "text/x-python",
   "name": "python",
   "nbconvert_exporter": "python",
   "pygments_lexer": "ipython3",
   "version": "3.9.16"
  }
 },
 "nbformat": 4,
 "nbformat_minor": 5
}
